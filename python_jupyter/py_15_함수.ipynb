{
 "cells": [
  {
   "cell_type": "markdown",
   "id": "5135852b-d034-4d4d-9865-6e6ea69739a5",
   "metadata": {},
   "source": [
    "### def -> 함수를 생성할 때\n",
    "\n",
    "def 함수명: <br/>\n",
    "    실행문<br/>\n",
    "    실행문<br/>\n",
    "    실행문<br/>\n"
   ]
  },
  {
   "cell_type": "code",
   "execution_count": 3,
   "id": "3aa2d454-5e17-42c0-ab27-0d100330abca",
   "metadata": {},
   "outputs": [
    {
     "data": {
      "text/plain": [
       "15"
      ]
     },
     "execution_count": 3,
     "metadata": {},
     "output_type": "execute_result"
    }
   ],
   "source": [
    "# 함수 생성 return이 있는 함수\n",
    "def multiple(n1, n2):\n",
    "    return n1*n2\n",
    "multiple(5, 3)"
   ]
  },
  {
   "cell_type": "code",
   "execution_count": 4,
   "id": "1570795d-1049-4ed4-8392-f76fc2c8e393",
   "metadata": {},
   "outputs": [
    {
     "data": {
      "text/plain": [
       "'OK'"
      ]
     },
     "execution_count": 4,
     "metadata": {},
     "output_type": "execute_result"
    }
   ],
   "source": [
    "# 매개변수가 없는 함수\n",
    "def question():\n",
    "    return 'OK'\n",
    "question()"
   ]
  },
  {
   "cell_type": "code",
   "execution_count": 12,
   "id": "d2d1e477-79f6-460f-8295-fe6f5cacf2f0",
   "metadata": {},
   "outputs": [
    {
     "name": "stdout",
     "output_type": "stream",
     "text": [
      "7*2=14\n",
      "7*3=21\n",
      "7*4=28\n",
      "7*5=35\n",
      "7*6=42\n",
      "7*7=49\n",
      "7*8=56\n",
      "7*9=63\n"
     ]
    }
   ],
   "source": [
    "# 구구단 구하는 함수 return 없이\n",
    "def gugudan(dan):\n",
    "    r = [ (dan, i, dan * i) for i in range(2,10)]\n",
    "    for (x,y,z) in r:\n",
    "        print(f'{x}*{y}={z}')\n",
    "gugudan(7)"
   ]
  },
  {
   "cell_type": "code",
   "execution_count": 13,
   "id": "873c3af5-448d-4efc-9a5a-bf374ec10c8a",
   "metadata": {},
   "outputs": [
    {
     "name": "stdout",
     "output_type": "stream",
     "text": [
      "24000\n",
      "OK\n",
      "7*2=14\n",
      "7*3=21\n",
      "7*4=28\n",
      "7*5=35\n",
      "7*6=42\n",
      "7*7=49\n",
      "7*8=56\n",
      "7*9=63\n"
     ]
    }
   ],
   "source": [
    "# 함수 호출\n",
    "print(multiple(120,200))\n",
    "print(question())\n",
    "gugudan(7)"
   ]
  },
  {
   "cell_type": "code",
   "execution_count": 14,
   "id": "20225e4f-a8eb-41ae-ab44-4ef6ea64791a",
   "metadata": {},
   "outputs": [],
   "source": [
    "def add(a, b, c):\n",
    "    sum = a+b+c\n",
    "    print(f'{a}+{b}+{c}={sum}')"
   ]
  },
  {
   "cell_type": "code",
   "execution_count": 15,
   "id": "d0955dd3-668c-4604-8cb5-0a128d2f112c",
   "metadata": {},
   "outputs": [
    {
     "name": "stdout",
     "output_type": "stream",
     "text": [
      "10+20+30=60\n"
     ]
    }
   ],
   "source": [
    "add(10, 20, 30)"
   ]
  },
  {
   "cell_type": "code",
   "execution_count": 16,
   "id": "85071347-b2d1-4d28-8347-9d6373e6f52d",
   "metadata": {},
   "outputs": [
    {
     "name": "stdout",
     "output_type": "stream",
     "text": [
      "300+500+100=900\n"
     ]
    }
   ],
   "source": [
    "add(c=100, b=500, a=300)"
   ]
  },
  {
   "cell_type": "code",
   "execution_count": 17,
   "id": "0cf36572-0ad4-4b08-ba47-f7931efc33c5",
   "metadata": {},
   "outputs": [
    {
     "name": "stdout",
     "output_type": "stream",
     "text": [
      "50+30+20=100\n"
     ]
    }
   ],
   "source": [
    "add(50, c=20, b=30)"
   ]
  },
  {
   "cell_type": "code",
   "execution_count": 21,
   "id": "76935c11-cf73-467b-8c82-2645c5520efb",
   "metadata": {},
   "outputs": [
    {
     "name": "stdout",
     "output_type": "stream",
     "text": [
      "result=60\n"
     ]
    }
   ],
   "source": [
    "# 매개변수의 개수가 일정하지 않을 때\n",
    "def add_many(*args):\n",
    "    result = 0\n",
    "    for d1 in args:\n",
    "        result = result + d1\n",
    "    print(f'result={result}')"
   ]
  },
  {
   "cell_type": "code",
   "execution_count": 22,
   "id": "01ad1f08-0e2e-41d4-9c34-1b1e33262877",
   "metadata": {},
   "outputs": [
    {
     "name": "stdout",
     "output_type": "stream",
     "text": [
      "result=60\n",
      "result=135\n"
     ]
    }
   ],
   "source": [
    "add_many(20,10,30)\n",
    "add_many(20,10,30,1,5,9,8,7,45)"
   ]
  },
  {
   "cell_type": "code",
   "execution_count": 24,
   "id": "35721712-396d-46b3-9904-a216e977f23b",
   "metadata": {},
   "outputs": [],
   "source": [
    "def calculator(menu, *args):\n",
    "    result = 0\n",
    "    if menu == 'add':\n",
    "        for d in args:\n",
    "            result = result + d\n",
    "        print(f'{menu}->{result}')\n",
    "    elif menu == 'minus':\n",
    "        for d in args:\n",
    "            result = result - d\n",
    "        print(f'{menu}->{result}')\n",
    "    else:\n",
    "        print('메뉴를 잘못 선택했습니다.')"
   ]
  },
  {
   "cell_type": "code",
   "execution_count": 25,
   "id": "83c7ca77-7b1a-4b33-b77c-ef8915b7d59e",
   "metadata": {},
   "outputs": [
    {
     "name": "stdout",
     "output_type": "stream",
     "text": [
      "add->77\n",
      "minus->-76\n"
     ]
    }
   ],
   "source": [
    "calculator('add', 3,54,6,6,8)\n",
    "calculator('minus', 5,5,5,5,3,5,45,1,2)"
   ]
  },
  {
   "cell_type": "code",
   "execution_count": 35,
   "id": "b3fd1986-4deb-4b72-8967-7c75813f9bb7",
   "metadata": {},
   "outputs": [],
   "source": [
    "# **args 변수명 데이터의 개수가 일정하지 않을 때\n",
    "def kwargs_test(**args):\n",
    "    print(args)\n",
    "    key = args.keys() # key 목록이 list로 구해진다.\n",
    "    print(f'key --> {key}')\n",
    "    for k in key:\n",
    "        print(f'{k}-->{args[k]}')"
   ]
  },
  {
   "cell_type": "code",
   "execution_count": 37,
   "id": "ffdaefd4-db2f-4e36-bb4f-dc397b8dd95d",
   "metadata": {},
   "outputs": [
    {
     "name": "stdout",
     "output_type": "stream",
     "text": [
      "{'a': 10}\n",
      "key --> dict_keys(['a'])\n",
      "a-->10\n",
      "{'name': 'hong', 'tel': '010-1232'}\n",
      "key --> dict_keys(['name', 'tel'])\n",
      "name-->hong\n",
      "tel-->010-1232\n",
      "{'kor': 100, 'eng': 200, 'math': 300}\n",
      "key --> dict_keys(['kor', 'eng', 'math'])\n",
      "kor-->100\n",
      "eng-->200\n",
      "math-->300\n"
     ]
    }
   ],
   "source": [
    "kwargs_test(a=10)\n",
    "kwargs_test(name='hong', tel='010-1232')\n",
    "kwargs_test(kor=100, eng=200, math=300)"
   ]
  },
  {
   "cell_type": "code",
   "execution_count": 39,
   "id": "b7dd1ac3-41e0-46cc-9f6f-a77b27d49281",
   "metadata": {},
   "outputs": [],
   "source": [
    "# return 결과가 여러 개일 때\n",
    "def all_calcu(n1,n2):\n",
    "    return n1+n2, n1-n2, n1*n2, n1//n2\n"
   ]
  },
  {
   "cell_type": "code",
   "execution_count": 40,
   "id": "0474ea62-1050-4b8f-8d54-ec15a65a226a",
   "metadata": {},
   "outputs": [
    {
     "data": {
      "text/plain": [
       "(13, 7, 30, 3)"
      ]
     },
     "execution_count": 40,
     "metadata": {},
     "output_type": "execute_result"
    }
   ],
   "source": [
    "result1 = all_calcu(10,3)\n",
    "result1"
   ]
  },
  {
   "cell_type": "code",
   "execution_count": 41,
   "id": "f59258ad-f781-4a49-aaae-111e393e3b28",
   "metadata": {},
   "outputs": [],
   "source": [
    "r1, r2, r3, r4 = all_calcu(20,4)"
   ]
  },
  {
   "cell_type": "code",
   "execution_count": 42,
   "id": "4b23b6a3-513a-4dc2-9ddb-ad68bcd4cef5",
   "metadata": {},
   "outputs": [
    {
     "name": "stdout",
     "output_type": "stream",
     "text": [
      "24\n",
      "16\n",
      "80\n",
      "5\n"
     ]
    }
   ],
   "source": [
    "print(r1)\n",
    "print(r2)\n",
    "print(r3)\n",
    "print(r4)"
   ]
  },
  {
   "cell_type": "code",
   "execution_count": 43,
   "id": "691e0dcc-c439-4913-84bf-511cd7d77119",
   "metadata": {},
   "outputs": [],
   "source": [
    "def info(name, age, woman=True):\n",
    "    print(f'이름은 {name}')\n",
    "    print(f'나이는 {age}')\n",
    "    print(f'성별은 여자이다, {woman}')"
   ]
  },
  {
   "cell_type": "code",
   "execution_count": 44,
   "id": "9b09044a-03af-4df5-a20a-e1b229f17ecb",
   "metadata": {},
   "outputs": [
    {
     "name": "stdout",
     "output_type": "stream",
     "text": [
      "이름은이은정\n",
      "나이는55\n",
      "성별은 여자이다, True\n"
     ]
    }
   ],
   "source": [
    "info('이은정', '55')"
   ]
  },
  {
   "cell_type": "code",
   "execution_count": 46,
   "id": "5840ba57-96b6-43a9-b5c1-7d4d1c341770",
   "metadata": {},
   "outputs": [],
   "source": [
    "xx = 100\n",
    "\n",
    "def vartest(xx):\n",
    "    xx = xx+100\n",
    "    print(xx)"
   ]
  },
  {
   "cell_type": "code",
   "execution_count": 47,
   "id": "393c82ff-f32b-4ecd-adc8-8fa58f3eedad",
   "metadata": {},
   "outputs": [
    {
     "name": "stdout",
     "output_type": "stream",
     "text": [
      "300\n"
     ]
    }
   ],
   "source": [
    "vartest(200)"
   ]
  },
  {
   "cell_type": "code",
   "execution_count": 48,
   "id": "e22d0d71-b134-4b47-b834-82786bea3b2d",
   "metadata": {},
   "outputs": [
    {
     "data": {
      "text/plain": [
       "100"
      ]
     },
     "execution_count": 48,
     "metadata": {},
     "output_type": "execute_result"
    }
   ],
   "source": [
    "xx"
   ]
  },
  {
   "cell_type": "code",
   "execution_count": 50,
   "id": "0983a036-4e12-4ca1-a0ce-382d9019a13b",
   "metadata": {},
   "outputs": [],
   "source": [
    "zz = 100\n",
    "\n",
    "def vartest(yy):\n",
    "    global zz\n",
    "    yy = yy+100\n",
    "    zz = yy\n",
    "    print(yy)"
   ]
  },
  {
   "cell_type": "code",
   "execution_count": 51,
   "id": "af7b460f-3bd3-4a26-bc87-728dcfbcabba",
   "metadata": {},
   "outputs": [
    {
     "name": "stdout",
     "output_type": "stream",
     "text": [
      "1100\n"
     ]
    }
   ],
   "source": [
    "vartest(1000)"
   ]
  },
  {
   "cell_type": "code",
   "execution_count": 53,
   "id": "3f02dcc8-6e9a-48d2-aefa-a2ab28f026b8",
   "metadata": {},
   "outputs": [
    {
     "data": {
      "text/plain": [
       "1100"
      ]
     },
     "execution_count": 53,
     "metadata": {},
     "output_type": "execute_result"
    }
   ],
   "source": [
    "zz"
   ]
  },
  {
   "cell_type": "code",
   "execution_count": 55,
   "id": "cff6f8c6-eb93-4e9b-a418-335145f3bdb3",
   "metadata": {},
   "outputs": [
    {
     "data": {
      "text/plain": [
       "56"
      ]
     },
     "execution_count": 55,
     "metadata": {},
     "output_type": "execute_result"
    }
   ],
   "source": [
    "# 함수를 lambda형을 만들기\n",
    "# 함수명    매개변수: 실행문\n",
    "add5 = lambda a, b:a+b\n",
    "    \n",
    "rr = add5(15, 41)\n",
    "rr"
   ]
  },
  {
   "cell_type": "code",
   "execution_count": null,
   "id": "baf09b62-7d6f-4d50-b478-833eb834c695",
   "metadata": {},
   "outputs": [],
   "source": [
    "def add5(a,b):\n",
    "    return a+b"
   ]
  },
  {
   "cell_type": "code",
   "execution_count": null,
   "id": "b96bfd32-bc2b-477a-9bff-f0f5fbf0cf40",
   "metadata": {},
   "outputs": [],
   "source": []
  },
  {
   "cell_type": "code",
   "execution_count": null,
   "id": "b787382b-ee8e-4ea2-8aea-5e1c4f86108c",
   "metadata": {},
   "outputs": [],
   "source": []
  },
  {
   "cell_type": "code",
   "execution_count": null,
   "id": "a37d3c4d-f67d-4191-a13d-c1dacc4e9ea3",
   "metadata": {},
   "outputs": [],
   "source": []
  },
  {
   "cell_type": "code",
   "execution_count": null,
   "id": "04ee0b95-d464-4dab-9de9-78209a0a59b4",
   "metadata": {},
   "outputs": [],
   "source": []
  },
  {
   "cell_type": "code",
   "execution_count": null,
   "id": "ebab6664-1c38-49df-af7c-a7f255cb33be",
   "metadata": {},
   "outputs": [],
   "source": []
  }
 ],
 "metadata": {
  "kernelspec": {
   "display_name": "Python 3",
   "language": "python",
   "name": "python3"
  },
  "language_info": {
   "codemirror_mode": {
    "name": "ipython",
    "version": 3
   },
   "file_extension": ".py",
   "mimetype": "text/x-python",
   "name": "python",
   "nbconvert_exporter": "python",
   "pygments_lexer": "ipython3",
   "version": "3.8.8"
  }
 },
 "nbformat": 4,
 "nbformat_minor": 5
}
