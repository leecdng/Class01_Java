{
 "cells": [
  {
   "cell_type": "markdown",
   "id": "da90bb39-a5c1-48a9-b743-6ae9ee5135a6",
   "metadata": {},
   "source": [
    "### 변수 선언 방법"
   ]
  },
  {
   "cell_type": "code",
   "execution_count": 2,
   "id": "d96a1ce2-f738-4560-91f7-5a0e248d632a",
   "metadata": {},
   "outputs": [
    {
     "name": "stdout",
     "output_type": "stream",
     "text": [
      "2354323701888\n"
     ]
    }
   ],
   "source": [
    "num = [2,6,9,8,6]\n",
    "print(id(num)) # id()함수 : 객체의 주소를 구함"
   ]
  },
  {
   "cell_type": "code",
   "execution_count": 4,
   "id": "78c968cb-06e7-401b-aba9-a879bf86e22e",
   "metadata": {},
   "outputs": [
    {
     "name": "stdout",
     "output_type": "stream",
     "text": [
      "[2, 6, 9, 8, 6]\n",
      "2354323701888\n"
     ]
    }
   ],
   "source": [
    "num2 = num # 리스트의 주소를 넘겨준다.\n",
    "print(num2)\n",
    "print(id(num2)) # num2 주소 = num의 주소"
   ]
  },
  {
   "cell_type": "code",
   "execution_count": 8,
   "id": "b7ea6f9c-a12c-496e-be4d-e5fab5ee78df",
   "metadata": {},
   "outputs": [
    {
     "name": "stdout",
     "output_type": "stream",
     "text": [
      "num->[2, 6, 1234, 8, 6]\n",
      "num2->[2, 6, 1234, 8, 6]\n"
     ]
    }
   ],
   "source": [
    "num[2] = 1234\n",
    "\n",
    "print(f'num->{num}')\n",
    "print(f'num2->{num2}')"
   ]
  },
  {
   "cell_type": "code",
   "execution_count": 9,
   "id": "553a6ae1-5090-4d4b-acbc-0e678b78bf61",
   "metadata": {},
   "outputs": [
    {
     "name": "stdout",
     "output_type": "stream",
     "text": [
      "num=>[2, 6, 1234, 8, 6]\n",
      "num3=>[2, 6, 9999, 8, 6]\n"
     ]
    }
   ],
   "source": [
    "# 주소를 넘겨주지 않고 데이터를 새로 생성할 경우\n",
    "num3 = num[:] # 주소를 새롭게 생성한다.\n",
    "num3[2] = 9999\n",
    "print(f'num=>{num}')\n",
    "print(f'num3=>{num3}')"
   ]
  },
  {
   "cell_type": "markdown",
   "id": "52e4281e-e8ec-4a5c-a5af-457a3f3db1ed",
   "metadata": {},
   "source": [
    "### 모듈을 이용하여 copy : num3 = num[:]"
   ]
  },
  {
   "cell_type": "code",
   "execution_count": 12,
   "id": "ab4cf314-acce-4ddd-8dc3-4b3ae442a00f",
   "metadata": {},
   "outputs": [],
   "source": [
    "from copy import copy"
   ]
  },
  {
   "cell_type": "code",
   "execution_count": 13,
   "id": "ac95b0b1-6a32-448c-8519-5e3f8e8bdc94",
   "metadata": {},
   "outputs": [
    {
     "name": "stdout",
     "output_type": "stream",
     "text": [
      "[100, 200, 300, 400]\n",
      "[100, 200, 1234, 400]\n"
     ]
    }
   ],
   "source": [
    "aa = [100,200,300,400]\n",
    "bb = copy(aa) # num[:]와 동일하며 새로운 주소를 생성한다.\n",
    "print(aa)\n",
    "bb[2] = 1234\n",
    "print(bb)"
   ]
  },
  {
   "cell_type": "code",
   "execution_count": 14,
   "id": "87780a93-7ddb-4bd3-8579-efe2516c5ee7",
   "metadata": {},
   "outputs": [
    {
     "name": "stdout",
     "output_type": "stream",
     "text": [
      "python\n",
      "test\n"
     ]
    }
   ],
   "source": [
    "# 변수를 생성하는 다양한 방법\n",
    "a, b = ('python', 'test')\n",
    "print(a)\n",
    "print(b)"
   ]
  },
  {
   "cell_type": "code",
   "execution_count": 15,
   "id": "415d8ce7-3eef-488e-a162-41e12d661972",
   "metadata": {},
   "outputs": [
    {
     "name": "stdout",
     "output_type": "stream",
     "text": [
      "파이썬\n",
      "테스트\n"
     ]
    }
   ],
   "source": [
    "(c, d) = '파이썬', '테스트'\n",
    "print(c)\n",
    "print(d)"
   ]
  },
  {
   "cell_type": "code",
   "execution_count": 16,
   "id": "dce83dd5-7dfa-4012-8d64-e274b597330c",
   "metadata": {},
   "outputs": [
    {
     "name": "stdout",
     "output_type": "stream",
     "text": [
      "사과\n",
      "망고\n"
     ]
    }
   ],
   "source": [
    "[e, f] = ['사과','망고']\n",
    "print(e)\n",
    "print(f)"
   ]
  },
  {
   "cell_type": "code",
   "execution_count": 17,
   "id": "f3bf1560-0d08-4ddd-a6bd-0cf9226b1479",
   "metadata": {},
   "outputs": [
    {
     "name": "stdout",
     "output_type": "stream",
     "text": [
      "yellow\n",
      "yellow\n",
      "yellow\n"
     ]
    }
   ],
   "source": [
    "g = h = k = 'yellow'\n",
    "print(g)\n",
    "print(h)\n",
    "print(k)"
   ]
  },
  {
   "cell_type": "code",
   "execution_count": 18,
   "id": "1cf13b73-e544-4897-8117-81cae1d67554",
   "metadata": {},
   "outputs": [
    {
     "name": "stdout",
     "output_type": "stream",
     "text": [
      "망고\n",
      "사과\n"
     ]
    }
   ],
   "source": [
    "# 두 값을 교환할 때 (예전엔 temp라는 변수 만들어서 이용했지만 없어도 가능)\n",
    "f, e = e, f\n",
    "print(e)\n",
    "print(f)"
   ]
  }
 ],
 "metadata": {
  "kernelspec": {
   "display_name": "Python 3",
   "language": "python",
   "name": "python3"
  },
  "language_info": {
   "codemirror_mode": {
    "name": "ipython",
    "version": 3
   },
   "file_extension": ".py",
   "mimetype": "text/x-python",
   "name": "python",
   "nbconvert_exporter": "python",
   "pygments_lexer": "ipython3",
   "version": "3.8.8"
  }
 },
 "nbformat": 4,
 "nbformat_minor": 5
}
