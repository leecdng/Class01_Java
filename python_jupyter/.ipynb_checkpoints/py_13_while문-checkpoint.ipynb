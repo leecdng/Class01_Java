{
 "cells": [
  {
   "cell_type": "code",
   "execution_count": 2,
   "id": "5df74953-7ed6-4255-b895-2ac9f14a7080",
   "metadata": {},
   "outputs": [],
   "source": [
    "# 조건식이 참일 때 while문 실행\n",
    "\n",
    "#while 조건식 :\n",
    "#    실행문"
   ]
  },
  {
   "cell_type": "code",
   "execution_count": 3,
   "id": "b77e0d53-c0e3-43e5-b52a-65a88adc380f",
   "metadata": {},
   "outputs": [
    {
     "name": "stdout",
     "output_type": "stream",
     "text": [
      "1개의 나무가 있습니다.....\n",
      "2개의 나무가 있습니다.....\n",
      "3개의 나무가 있습니다.....\n",
      "4개의 나무가 있습니다.....\n",
      "5개의 나무가 있습니다.....\n",
      "6개의 나무가 있습니다.....\n",
      "7개의 나무가 있습니다.....\n",
      "8개의 나무가 있습니다.....\n",
      "9개의 나무가 있습니다.....\n"
     ]
    }
   ],
   "source": [
    "treeCnt = 1;\n",
    "while treeCnt < 10:\n",
    "    print(f'{treeCnt}개의 나무가 있습니다.....')\n",
    "    treeCnt = treeCnt + 1"
   ]
  },
  {
   "cell_type": "code",
   "execution_count": null,
   "id": "86eb1c67-df09-49bf-8d14-c74154ecacb3",
   "metadata": {},
   "outputs": [],
   "source": [
    "message = \"\"\"\n",
    "1. 목록\n",
    "2. 수정\n",
    "3. 삭제\n",
    "4. 종료\n",
    "\"\"\"\n",
    "\n",
    "menu = 0\n",
    "while menu!=4:\n",
    "    print(message)\n",
    "    menu = int(input('번호 입력->'))\n",
    "    if menu > 4:\n",
    "        break"
   ]
  },
  {
   "cell_type": "code",
   "execution_count": 10,
   "id": "62ab5cba-fa57-47a1-897a-7f177db9f68e",
   "metadata": {},
   "outputs": [],
   "source": [
    "# 재고는 5개이다.\n",
    "# money를 입력받아 300원이 입력되면 커피를 주고\n",
    "# 300원보다 많은 돈을 입력 받으면 커피를 주고 거스름돈 계산\n",
    "# 300원 미만을 입력 받으면 커피를 주지 않고 돈을 돌려준다.\n",
    "# 재고가 없으면 프로그램 종료시킨다."
   ]
  },
  {
   "cell_type": "code",
   "execution_count": 6,
   "id": "7b9676e1-8607-4761-9cfd-ad9ad83f2f9e",
   "metadata": {},
   "outputs": [
    {
     "name": "stdin",
     "output_type": "stream",
     "text": [
      "얼마 주실? 900\n"
     ]
    },
    {
     "name": "stdout",
     "output_type": "stream",
     "text": [
      "맛있는 커피 나왔습니다~\n",
      "거스름돈 600원 받아가세요.\n"
     ]
    },
    {
     "name": "stdin",
     "output_type": "stream",
     "text": [
      "얼마 주실? 800\n"
     ]
    },
    {
     "name": "stdout",
     "output_type": "stream",
     "text": [
      "맛있는 커피 나왔습니다~\n",
      "거스름돈 500원 받아가세요.\n"
     ]
    },
    {
     "name": "stdin",
     "output_type": "stream",
     "text": [
      "얼마 주실? 500\n"
     ]
    },
    {
     "name": "stdout",
     "output_type": "stream",
     "text": [
      "맛있는 커피 나왔습니다~\n",
      "거스름돈 200원 받아가세요.\n"
     ]
    },
    {
     "name": "stdin",
     "output_type": "stream",
     "text": [
      "얼마 주실? 300\n"
     ]
    },
    {
     "name": "stdout",
     "output_type": "stream",
     "text": [
      "맛있는 커피 나왔습니다~\n"
     ]
    },
    {
     "name": "stdin",
     "output_type": "stream",
     "text": [
      "얼마 주실? 200\n"
     ]
    },
    {
     "name": "stdout",
     "output_type": "stream",
     "text": [
      "이런.. 돈이 부족하군요. 200원 다시 돌려드릴게요\n"
     ]
    },
    {
     "name": "stdin",
     "output_type": "stream",
     "text": [
      "얼마 주실? 400\n"
     ]
    },
    {
     "name": "stdout",
     "output_type": "stream",
     "text": [
      "맛있는 커피 나왔습니다~\n",
      "거스름돈 100원 받아가세요.\n",
      "~ close 내일 다시 만나요 ~\n"
     ]
    }
   ],
   "source": [
    "cnt = 5\n",
    "while cnt > 0:\n",
    "    money = int(input('얼마 주실?'))\n",
    "    if(money==300):\n",
    "        print('맛있는 커피 나왔습니다~')\n",
    "        cnt = cnt-1\n",
    "    elif(money>300):\n",
    "        print('맛있는 커피 나왔습니다~')\n",
    "        print(f'거스름돈 {money-300}원 받아가세요.')\n",
    "        cnt = cnt-1\n",
    "    else:\n",
    "        print(f'이런.. 돈이 부족하군요. {money}원 다시 돌려드릴게요')\n",
    "    if(cnt<=0) :\n",
    "        print('~ close 내일 다시 만나요 ~')"
   ]
  },
  {
   "cell_type": "code",
   "execution_count": 7,
   "id": "8bb66f9e-a418-4fca-bc1c-b2d461a954f7",
   "metadata": {},
   "outputs": [
    {
     "name": "stdin",
     "output_type": "stream",
     "text": [
      "돈을 입력하세요. 500\n"
     ]
    },
    {
     "name": "stdout",
     "output_type": "stream",
     "text": [
      "커피를 제공하고, 200거스름돈을 돌려준다.\n",
      "재고는 4개이다.\n"
     ]
    },
    {
     "name": "stdin",
     "output_type": "stream",
     "text": [
      "돈을 입력하세요. 600\n"
     ]
    },
    {
     "name": "stdout",
     "output_type": "stream",
     "text": [
      "커피를 제공하고, 300거스름돈을 돌려준다.\n",
      "재고는 3개이다.\n"
     ]
    },
    {
     "name": "stdin",
     "output_type": "stream",
     "text": [
      "돈을 입력하세요. 300\n"
     ]
    },
    {
     "name": "stdout",
     "output_type": "stream",
     "text": [
      "커피를 제공하였습니다.\n",
      "재고는 2개이다.\n"
     ]
    },
    {
     "name": "stdin",
     "output_type": "stream",
     "text": [
      "돈을 입력하세요. 500\n"
     ]
    },
    {
     "name": "stdout",
     "output_type": "stream",
     "text": [
      "커피를 제공하고, 200거스름돈을 돌려준다.\n",
      "재고는 1개이다.\n"
     ]
    },
    {
     "name": "stdin",
     "output_type": "stream",
     "text": [
      "돈을 입력하세요. 200\n"
     ]
    },
    {
     "name": "stdout",
     "output_type": "stream",
     "text": [
      "받은 돈 200를 돌려준다.\n",
      "재고는 1개이다.\n"
     ]
    },
    {
     "name": "stdin",
     "output_type": "stream",
     "text": [
      "돈을 입력하세요. 100\n"
     ]
    },
    {
     "name": "stdout",
     "output_type": "stream",
     "text": [
      "받은 돈 100를 돌려준다.\n",
      "재고는 1개이다.\n"
     ]
    },
    {
     "name": "stdin",
     "output_type": "stream",
     "text": [
      "돈을 입력하세요. 400\n"
     ]
    },
    {
     "name": "stdout",
     "output_type": "stream",
     "text": [
      "커피를 제공하고, 100거스름돈을 돌려준다.\n",
      "재고는 0개이다.\n"
     ]
    }
   ],
   "source": [
    "# 쌤 코드\n",
    "\n",
    "coffee = 5\n",
    "\n",
    "while True:\n",
    "    money = int(input('돈을 입력하세요.'))\n",
    "    if(money)==300:\n",
    "        print('커피를 제공하였습니다.')\n",
    "        coffee = coffee - 1\n",
    "    elif money > 300:\n",
    "        m = money - 300\n",
    "        print(f'커피를 제공하고, {m}거스름돈을 돌려준다.')\n",
    "        coffee = coffee - 1\n",
    "    else:\n",
    "        print(f'받은 돈 {money}를 돌려준다.')\n",
    "\n",
    "    # 재고 없을 때\n",
    "    print(f'재고는 {coffee}개이다.')\n",
    "    if(coffee == 0):\n",
    "        break"
   ]
  },
  {
   "cell_type": "code",
   "execution_count": null,
   "id": "f5da32a5-2e1c-44c7-80ba-665fc033c3a5",
   "metadata": {},
   "outputs": [],
   "source": []
  },
  {
   "cell_type": "code",
   "execution_count": null,
   "id": "b4348700-d61b-4b95-a475-bbe1db36a0cc",
   "metadata": {},
   "outputs": [],
   "source": []
  },
  {
   "cell_type": "code",
   "execution_count": null,
   "id": "0de46966-86f2-451a-bced-cd59b2353b89",
   "metadata": {},
   "outputs": [],
   "source": []
  }
 ],
 "metadata": {
  "kernelspec": {
   "display_name": "Python 3",
   "language": "python",
   "name": "python3"
  },
  "language_info": {
   "codemirror_mode": {
    "name": "ipython",
    "version": 3
   },
   "file_extension": ".py",
   "mimetype": "text/x-python",
   "name": "python",
   "nbconvert_exporter": "python",
   "pygments_lexer": "ipython3",
   "version": "3.8.8"
  }
 },
 "nbformat": 4,
 "nbformat_minor": 5
}
