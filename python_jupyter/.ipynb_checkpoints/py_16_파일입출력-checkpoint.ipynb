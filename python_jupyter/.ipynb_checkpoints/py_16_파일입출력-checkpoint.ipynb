{
 "cells": [
  {
   "cell_type": "code",
   "execution_count": 2,
   "id": "a4fa8533-8912-4620-96b7-a0a44d5c4d09",
   "metadata": {},
   "outputs": [],
   "source": [
    "# 파일 생성하기\n",
    "# 경로가 없을 시 기본 위치에 파일이 생성됨.\n",
    "\n",
    "# 파일명, 모드(r(읽기),w(쓰기),a(마지막에 쓰기할 것))\n",
    "f1 = open('TestFile.txt', 'w')\n",
    "f1.close()"
   ]
  },
  {
   "cell_type": "code",
   "execution_count": 3,
   "id": "7baca717-738b-44ff-b2c2-3c01cfc4f824",
   "metadata": {},
   "outputs": [],
   "source": [
    "# 절대 경로에 파일 생성\n",
    "# 폴더는 별도로 만들어야 함\n",
    "f2 = open('D:/testFile/TestFile2.txt','w')\n",
    "f2.close()"
   ]
  },
  {
   "cell_type": "code",
   "execution_count": 4,
   "id": "87e0cf2e-311e-4295-a2a8-856dd363f2ac",
   "metadata": {},
   "outputs": [],
   "source": [
    "# 파일에 쓰기\n",
    "f3 = open('D:/testFile/TestFile3.txt', 'w')\n",
    "\n",
    "for i in range(1, 11):\n",
    "    data = '%d번째 줄 추가하기\\n' % i\n",
    "    f3.write(data)\n",
    "    \n",
    "f3.close()\n",
    "print('파일 쓰기 완료')"
   ]
  },
  {
   "cell_type": "code",
   "execution_count": null,
   "id": "937fafc1-2870-464a-80de-e52f58c1a8ef",
   "metadata": {},
   "outputs": [],
   "source": []
  },
  {
   "cell_type": "code",
   "execution_count": null,
   "id": "739dd545-a0ba-4294-86f4-52d879fadc1b",
   "metadata": {},
   "outputs": [],
   "source": []
  },
  {
   "cell_type": "code",
   "execution_count": null,
   "id": "14f549d1-3a52-4184-9f85-76dee8e28e6d",
   "metadata": {},
   "outputs": [],
   "source": []
  },
  {
   "cell_type": "code",
   "execution_count": null,
   "id": "6600f81e-5fa7-4f74-af35-0479ed90cced",
   "metadata": {},
   "outputs": [],
   "source": []
  },
  {
   "cell_type": "code",
   "execution_count": null,
   "id": "4bd5fb61-54b2-4c1a-a6bf-c4478e5dca6f",
   "metadata": {},
   "outputs": [],
   "source": []
  },
  {
   "cell_type": "code",
   "execution_count": null,
   "id": "055ac8ff-25b1-415a-af3d-1d20449aff2a",
   "metadata": {},
   "outputs": [],
   "source": []
  },
  {
   "cell_type": "code",
   "execution_count": null,
   "id": "518c9a5e-c550-433d-98f8-ff25c5f84091",
   "metadata": {},
   "outputs": [],
   "source": []
  },
  {
   "cell_type": "code",
   "execution_count": null,
   "id": "a88c7318-59bc-4357-92be-b900258ac9b5",
   "metadata": {},
   "outputs": [],
   "source": []
  },
  {
   "cell_type": "code",
   "execution_count": null,
   "id": "d1ef7a5c-ac0c-4213-9d64-99ca688baa07",
   "metadata": {},
   "outputs": [],
   "source": []
  }
 ],
 "metadata": {
  "kernelspec": {
   "display_name": "Python 3",
   "language": "python",
   "name": "python3"
  },
  "language_info": {
   "codemirror_mode": {
    "name": "ipython",
    "version": 3
   },
   "file_extension": ".py",
   "mimetype": "text/x-python",
   "name": "python",
   "nbconvert_exporter": "python",
   "pygments_lexer": "ipython3",
   "version": "3.8.8"
  }
 },
 "nbformat": 4,
 "nbformat_minor": 5
}
