{
 "cells": [
  {
   "cell_type": "markdown",
   "id": "d58ee185-1441-491b-8d88-ae0900aa754d",
   "metadata": {
    "tags": []
   },
   "source": [
    "### 형변환\n",
    "- int() : 실수, 논리, 문자화된 정보를 정수로 변환\n",
    "- float() : 실수로 변환\n",
    "- str() : 숫자를 문자열로 변환\n",
    "- chr() : 숫자를 문자로 변환\n",
    "- bool() : 정수, 실수, 논리, 문자를 논리형으로 변환"
   ]
  },
  {
   "cell_type": "code",
   "execution_count": 11,
   "id": "233cb036-cae9-4284-97a9-9c645a318247",
   "metadata": {},
   "outputs": [
    {
     "name": "stdout",
     "output_type": "stream",
     "text": [
      "3\n",
      "실수를 문자로 변환 -> 3, type = <class 'int'>\n"
     ]
    }
   ],
   "source": [
    "# 정수화   a = int(20)\n",
    "a = int(3.1415)\n",
    "print(a)\n",
    "# type(변수 또는 상수) : 데이터형을 구한다.\n",
    "print(f'실수를 문자로 변환 -> {a}, type = {type(a)}')"
   ]
  },
  {
   "cell_type": "code",
   "execution_count": 2,
   "id": "bc6b0e59-a5bb-4afc-aae1-ece1fddd8807",
   "metadata": {},
   "outputs": [
    {
     "data": {
      "text/plain": [
       "1"
      ]
     },
     "execution_count": 2,
     "metadata": {},
     "output_type": "execute_result"
    }
   ],
   "source": [
    "b = int(True) # True : 1, False : 0\n",
    "b"
   ]
  },
  {
   "cell_type": "code",
   "execution_count": 8,
   "id": "4588d9f0-381c-4ddc-bc0f-7a3876ef6ac1",
   "metadata": {},
   "outputs": [
    {
     "name": "stdout",
     "output_type": "stream",
     "text": [
      "1234\n",
      "23\n"
     ]
    }
   ],
   "source": [
    "c = int('1234')\n",
    "# d = int('test') // 에러 - 문자화된 정수만 가능\n",
    "print(c)\n",
    "# print(d)\n",
    "# e = int('23.256')\n",
    "e = int('23')\n",
    "print(e)"
   ]
  },
  {
   "cell_type": "code",
   "execution_count": 13,
   "id": "11fd80d2-958d-4cbc-a203-259acaf4394d",
   "metadata": {},
   "outputs": [
    {
     "name": "stdout",
     "output_type": "stream",
     "text": [
      "3.0\n",
      "123.254 <class 'float'>\n"
     ]
    }
   ],
   "source": [
    "# 실수로 변환\n",
    "f = float(a)\n",
    "print(f)\n",
    "g = float('123.254')\n",
    "print(g, type(g))"
   ]
  },
  {
   "cell_type": "code",
   "execution_count": 19,
   "id": "4c6827e6-da52-499a-9afc-97d74e28ba57",
   "metadata": {},
   "outputs": [
    {
     "name": "stdout",
     "output_type": "stream",
     "text": [
      "b1=True, type=<class 'bool'>\n",
      "b2=True, type=<class 'bool'>\n",
      "b3=False\n",
      "b4=False\n",
      "b5=True\n",
      "b6=True\n"
     ]
    }
   ],
   "source": [
    "# 논리형으로 변환\n",
    "b1 = bool('True') # 문자가 있으면 True, '', 매개변수가 없을 때 : False\n",
    "print(f'b1={b1}, type={type(b1)}')\n",
    "b2 = bool('Test');\n",
    "print(f'b2={b2}, type={type(b2)}')\n",
    "b3 = bool('')\n",
    "b4 = bool()\n",
    "print(f'b3={b3}')\n",
    "print(f'b4={b4}')\n",
    "\n",
    "b5 = bool(123)\n",
    "b6 = bool(222.512)\n",
    "print(f'b5={b5}')\n",
    "print(f'b6={b6}')"
   ]
  },
  {
   "cell_type": "code",
   "execution_count": 20,
   "id": "14051811-1890-4cae-9a04-bc5b931b9e6c",
   "metadata": {},
   "outputs": [
    {
     "name": "stdout",
     "output_type": "stream",
     "text": [
      "c1=A, type=<class 'str'>\n"
     ]
    }
   ],
   "source": [
    "# chr() : 아스키코드를 문자로 변환\n",
    "c1 = chr(65)\n",
    "print(f'c1={c1}, type={type(c1)}')"
   ]
  }
 ],
 "metadata": {
  "kernelspec": {
   "display_name": "Python 3",
   "language": "python",
   "name": "python3"
  },
  "language_info": {
   "codemirror_mode": {
    "name": "ipython",
    "version": 3
   },
   "file_extension": ".py",
   "mimetype": "text/x-python",
   "name": "python",
   "nbconvert_exporter": "python",
   "pygments_lexer": "ipython3",
   "version": "3.8.8"
  }
 },
 "nbformat": 4,
 "nbformat_minor": 5
}
