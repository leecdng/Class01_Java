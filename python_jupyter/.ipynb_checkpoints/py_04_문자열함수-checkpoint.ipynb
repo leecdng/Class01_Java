{
 "cells": [
  {
   "cell_type": "markdown",
   "id": "f87948a6-4a6d-4838-a5a0-93608834192f",
   "metadata": {},
   "source": [
    "### 문자열 함수\n",
    "count() : 특정 문자의 수를 구한다. <br/>\n",
    "find() : 문자의 위치 구하기<br/>"
   ]
  },
  {
   "cell_type": "code",
   "execution_count": 3,
   "id": "13515aa6-c029-4680-abfb-087e36710779",
   "metadata": {},
   "outputs": [
    {
     "name": "stdout",
     "output_type": "stream",
     "text": [
      "2\n"
     ]
    }
   ],
   "source": [
    "data = 'apple'\n",
    "# count()\n",
    "print(data.count('p')) # p의 개수"
   ]
  },
  {
   "cell_type": "code",
   "execution_count": 5,
   "id": "d67ef7a2-b5c5-49ff-aa92-46f1650a813f",
   "metadata": {},
   "outputs": [
    {
     "name": "stdout",
     "output_type": "stream",
     "text": [
      "1\n",
      "2\n",
      "1\n"
     ]
    }
   ],
   "source": [
    "#find()\n",
    "print(data.find('p'))\n",
    "#rfind()\n",
    "print(data.rfind('p'))\n",
    "#index()\n",
    "print(data.index('p'))"
   ]
  },
  {
   "cell_type": "code",
   "execution_count": 8,
   "id": "9814e68c-058b-4a05-a6eb-d1c5df670868",
   "metadata": {},
   "outputs": [
    {
     "name": "stdout",
     "output_type": "stream",
     "text": [
      "가,나,다,라\n",
      "a:p:p:l:e\n"
     ]
    }
   ],
   "source": [
    "#join()\n",
    "print(','.join('가나다라')) #가,나,다,라\n",
    "print(':'.join(data))"
   ]
  },
  {
   "cell_type": "code",
   "execution_count": 12,
   "id": "eda12fbf-fe98-43d5-949d-060030db730c",
   "metadata": {},
   "outputs": [
    {
     "name": "stdout",
     "output_type": "stream",
     "text": [
      "APPLE\n",
      "test python\n"
     ]
    }
   ],
   "source": [
    "# upper(), lower()\n",
    "print(data.upper())\n",
    "print('Test Python'.lower())"
   ]
  },
  {
   "cell_type": "code",
   "execution_count": 16,
   "id": "383e59f6-bc09-406b-b18a-bbdfe2543873",
   "metadata": {},
   "outputs": [
    {
     "name": "stdout",
     "output_type": "stream",
     "text": [
      "test strip() start      111\n",
      "            test strip() start 111\n",
      "test strip() start 111\n"
     ]
    }
   ],
   "source": [
    "# lstrip(), rstrip(), strip() : 공백 제거\n",
    "data2 = \"            test strip() start     \"\n",
    "print(data2.lstrip(), '111') # 왼쪽 공백 지우기\n",
    "print(data2.rstrip(), '111') # 오른쪽 공백 지우기 (한 글자 공백 확보)\n",
    "print(data2.strip(), '111') # 양쪽 공백 지우기"
   ]
  },
  {
   "cell_type": "code",
   "execution_count": 20,
   "id": "7cdd4490-c322-426c-980d-6afc6bbbe09d",
   "metadata": {},
   "outputs": [
    {
     "data": {
      "text/plain": [
       "'            테스트 strip() start     '"
      ]
     },
     "execution_count": 20,
     "metadata": {},
     "output_type": "execute_result"
    }
   ],
   "source": [
    "#replace\n",
    "data2.replace('test', '테스트') #콘솔엔 찍히지만 대입하지 않으면 실제 값이 바뀌진 않음"
   ]
  },
  {
   "cell_type": "code",
   "execution_count": 21,
   "id": "fb3ab9a2-786c-4dd9-af55-b1ca134a3ab4",
   "metadata": {},
   "outputs": [
    {
     "data": {
      "text/plain": [
       "['            ', 'es', ' s', 'rip() s', 'ar', '     ']"
      ]
     },
     "execution_count": 21,
     "metadata": {},
     "output_type": "execute_result"
    }
   ],
   "source": [
    "# split() -> 특정문자로 문자열을 잘라 리스트형으로 리턴\n",
    "data3 = data2.split('t');\n",
    "data3"
   ]
  },
  {
   "cell_type": "code",
   "execution_count": 23,
   "id": "64162385-5e0e-48bd-b410-7e068893a3cf",
   "metadata": {},
   "outputs": [
    {
     "data": {
      "text/plain": [
       "['test', 'strip()', 'start']"
      ]
     },
     "execution_count": 23,
     "metadata": {},
     "output_type": "execute_result"
    }
   ],
   "source": [
    "data4 = data2.split() # 공백 기준으로 문자열 자름 (이무것도 안 썼을 때)\n",
    "data4"
   ]
  }
 ],
 "metadata": {
  "kernelspec": {
   "display_name": "Python 3",
   "language": "python",
   "name": "python3"
  },
  "language_info": {
   "codemirror_mode": {
    "name": "ipython",
    "version": 3
   },
   "file_extension": ".py",
   "mimetype": "text/x-python",
   "name": "python",
   "nbconvert_exporter": "python",
   "pygments_lexer": "ipython3",
   "version": "3.8.8"
  }
 },
 "nbformat": 4,
 "nbformat_minor": 5
}
