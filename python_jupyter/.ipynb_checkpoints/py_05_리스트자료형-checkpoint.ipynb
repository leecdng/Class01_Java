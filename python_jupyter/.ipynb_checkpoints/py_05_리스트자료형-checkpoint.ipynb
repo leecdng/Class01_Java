{
 "cells": [
  {
   "cell_type": "markdown",
   "id": "67e9d91d-79db-44b6-b744-2cd71ac1f58e",
   "metadata": {},
   "source": [
    "### 리스트(list) 자료형 - index \n",
    "숫자나 문자열의 순서와 집합을 처리하는 자료형이다.<br/>\n",
    "리스트명 = [데이터1, 데이터2, [데이터1, 데이터2]]"
   ]
  },
  {
   "cell_type": "code",
   "execution_count": 5,
   "id": "eb9c4ee1-1536-47cd-8a3f-f25b96516c01",
   "metadata": {},
   "outputs": [
    {
     "name": "stdout",
     "output_type": "stream",
     "text": [
      "[]\n",
      "[]\n"
     ]
    }
   ],
   "source": [
    "# 리스트형 변수 선언하기\n",
    "d1 = []\n",
    "d2 = list()\n",
    "print(d1)\n",
    "print(d2)"
   ]
  },
  {
   "cell_type": "code",
   "execution_count": 8,
   "id": "cf5950e5-60f9-497c-a16e-f3a1eeff19f5",
   "metadata": {},
   "outputs": [
    {
     "name": "stdout",
     "output_type": "stream",
     "text": [
      "[1, 2, 3, 4, 5, 6, 7, 8, 9]\n",
      "['apple', 'banana', 'orange', 'tomato']\n"
     ]
    }
   ],
   "source": [
    "d3 = [1,2,3,4,5,6,7,8,9]\n",
    "d4 = ['apple','banana','orange','tomato']\n",
    "print(d3)\n",
    "print(d4)"
   ]
  },
  {
   "cell_type": "code",
   "execution_count": 9,
   "id": "63d55c0e-2eb3-4e44-9adf-5668915579b8",
   "metadata": {},
   "outputs": [
    {
     "name": "stdout",
     "output_type": "stream",
     "text": [
      "[1, 2, ['가', '나'], 3]\n",
      "['a', 'b', [1, 2, ['가', '나', '다']], 'c']\n"
     ]
    }
   ],
   "source": [
    "d4 = [1,2,['가','나'],3]\n",
    "d5 = ['a','b',[1,2,['가','나','다']],'c']\n",
    "print(d4)\n",
    "print(d5)"
   ]
  },
  {
   "cell_type": "code",
   "execution_count": 10,
   "id": "037e6c92-95de-424a-a9ef-b9e803e4d44d",
   "metadata": {},
   "outputs": [
    {
     "name": "stdout",
     "output_type": "stream",
     "text": [
      "나\n"
     ]
    }
   ],
   "source": [
    "print(d4[2][1])"
   ]
  },
  {
   "cell_type": "code",
   "execution_count": 13,
   "id": "fa5dcf90-192e-411d-a116-15a7890f719b",
   "metadata": {},
   "outputs": [
    {
     "name": "stdout",
     "output_type": "stream",
     "text": [
      "가\n"
     ]
    }
   ],
   "source": [
    "print(d5[2][2][0])"
   ]
  },
  {
   "cell_type": "code",
   "execution_count": 20,
   "id": "d25055b0-9b89-45e9-b0d8-b8b7d2330c60",
   "metadata": {},
   "outputs": [],
   "source": [
    "d3 = [1,2,3,4,5,6,7,8,9]\n",
    "d6 = [11,12,13,14,15,16]"
   ]
  },
  {
   "cell_type": "code",
   "execution_count": 18,
   "id": "f1c1dc0f-3dab-42dc-b338-c7bc1aba95cc",
   "metadata": {},
   "outputs": [
    {
     "name": "stdout",
     "output_type": "stream",
     "text": [
      "[4, 5, 6, 7]\n",
      "[1, 2, 3, 4]\n",
      "[5, 6, 7, 8, 9]\n",
      "[1, 2, 3, 4, 5, 6, 7, 8, 9]\n"
     ]
    }
   ],
   "source": [
    "# 리스트 슬라이싱\n",
    "print(d3[3:7]) #3번째에서 7번째 앞까지\n",
    "print(d3[:4]) # 0번째에서 4번째 앞까지\n",
    "print(d3[4:]) # 4번째부터 끝까지\n",
    "print(d3[:]) # 전체"
   ]
  },
  {
   "cell_type": "code",
   "execution_count": 21,
   "id": "e623b829-0daa-4646-8adb-02b6d9ce1a1d",
   "metadata": {},
   "outputs": [
    {
     "name": "stdout",
     "output_type": "stream",
     "text": [
      "[1, 2, 3, 4, 5, 6, 7, 8, 9, 11, 12, 13, 14, 15, 16]\n"
     ]
    }
   ],
   "source": [
    "# 리스트의 연산\n",
    "print(d3+d6)"
   ]
  },
  {
   "cell_type": "code",
   "execution_count": 23,
   "id": "d65f8bf1-8f5a-4e8b-b2aa-9667682313bc",
   "metadata": {},
   "outputs": [
    {
     "name": "stdout",
     "output_type": "stream",
     "text": [
      "[11, 12, 13, 14, 15, 16, 11, 12, 13, 14, 15, 16, 11, 12, 13, 14, 15, 16]\n"
     ]
    }
   ],
   "source": [
    "d7 = d6 * 3\n",
    "print(d7)"
   ]
  },
  {
   "cell_type": "code",
   "execution_count": 24,
   "id": "980036fb-5207-47c8-b2a5-98bb767c1d06",
   "metadata": {},
   "outputs": [
    {
     "name": "stdout",
     "output_type": "stream",
     "text": [
      "17\n"
     ]
    }
   ],
   "source": [
    "print(d3[2]+d6[3])"
   ]
  },
  {
   "cell_type": "code",
   "execution_count": 26,
   "id": "47a7d241-4a35-44c2-b43d-f8da7bced79f",
   "metadata": {},
   "outputs": [
    {
     "name": "stdout",
     "output_type": "stream",
     "text": [
      "18\n",
      "4\n"
     ]
    }
   ],
   "source": [
    "print(len(d7))\n",
    "print(len(d5))"
   ]
  },
  {
   "cell_type": "code",
   "execution_count": 28,
   "id": "951d1992-480b-4c71-aca4-c6f7c98e3fee",
   "metadata": {},
   "outputs": [
    {
     "name": "stdout",
     "output_type": "stream",
     "text": [
      "3개\n"
     ]
    }
   ],
   "source": [
    "print(str(d3[2])+\"개\")"
   ]
  },
  {
   "cell_type": "code",
   "execution_count": 29,
   "id": "8bc8f3dd-bc35-424c-a475-caddbf46901e",
   "metadata": {},
   "outputs": [
    {
     "data": {
      "text/plain": [
       "[11, 12, 13, 14, 15, 16, 11, 12, 13, 14, 15, 16, 11, 12, 13, 14, 15, 16]"
      ]
     },
     "execution_count": 29,
     "metadata": {},
     "output_type": "execute_result"
    }
   ],
   "source": [
    "d7"
   ]
  },
  {
   "cell_type": "code",
   "execution_count": 31,
   "id": "62714195-5d61-4135-b37f-b0ab1b1eb247",
   "metadata": {},
   "outputs": [],
   "source": [
    "# list의 데이터 지우기\n",
    "del d7[3] # 두 번 실행해서 지웠음"
   ]
  },
  {
   "cell_type": "code",
   "execution_count": 32,
   "id": "da3d52e5-110d-4d23-89fc-927135684a7c",
   "metadata": {},
   "outputs": [
    {
     "data": {
      "text/plain": [
       "[11, 12, 13, 16, 11, 12, 13, 14, 15, 16, 11, 12, 13, 14, 15, 16]"
      ]
     },
     "execution_count": 32,
     "metadata": {},
     "output_type": "execute_result"
    }
   ],
   "source": [
    "d7"
   ]
  },
  {
   "cell_type": "code",
   "execution_count": 33,
   "id": "b3a80aa3-7d26-45c0-aac1-77d5e2c146b4",
   "metadata": {},
   "outputs": [
    {
     "data": {
      "text/plain": [
       "[11, 12, 12, 13, 14, 15, 16, 11, 12, 13, 14, 15, 16]"
      ]
     },
     "execution_count": 33,
     "metadata": {},
     "output_type": "execute_result"
    }
   ],
   "source": [
    "del d7[2:5]\n",
    "d7"
   ]
  },
  {
   "cell_type": "code",
   "execution_count": 34,
   "id": "758772f8-fd4b-4b69-a9f3-38c2c0bd50d0",
   "metadata": {},
   "outputs": [
    {
     "data": {
      "text/plain": [
       "[11, 12, 12, 13, 14, 15, 16, 11, 12, 13]"
      ]
     },
     "execution_count": 34,
     "metadata": {},
     "output_type": "execute_result"
    }
   ],
   "source": [
    "del d7[10:]\n",
    "d7"
   ]
  },
  {
   "cell_type": "code",
   "execution_count": 36,
   "id": "60d0fbd6-345c-4320-8089-62144269911d",
   "metadata": {},
   "outputs": [
    {
     "data": {
      "text/plain": [
       "[11, 12, 12, 13, 14, 15, 16, 11, 12, 13, 100, 100]"
      ]
     },
     "execution_count": 36,
     "metadata": {},
     "output_type": "execute_result"
    }
   ],
   "source": [
    "# 리스트에 추가 append\n",
    "d7.append(100)\n",
    "d7"
   ]
  },
  {
   "cell_type": "code",
   "execution_count": 39,
   "id": "8e9a68ea-c357-4e0d-8276-92b59e50b0ab",
   "metadata": {},
   "outputs": [
    {
     "data": {
      "text/plain": [
       "[11, 12, 12, 13, 14, 15, 16, 11, 12, 13, 100, [2000, 1000]]"
      ]
     },
     "execution_count": 39,
     "metadata": {},
     "output_type": "execute_result"
    }
   ],
   "source": [
    "d7.append([2000,1000])\n",
    "d7"
   ]
  },
  {
   "cell_type": "code",
   "execution_count": 40,
   "id": "0bbdd961-bfde-455a-b638-89df4202d83e",
   "metadata": {},
   "outputs": [],
   "source": [
    "d8 = [15,49,20,40,34,2,45]"
   ]
  },
  {
   "cell_type": "code",
   "execution_count": 45,
   "id": "cb69a88a-84f4-485b-87e2-56b2d19da25d",
   "metadata": {},
   "outputs": [
    {
     "data": {
      "text/plain": [
       "[2, 15, 20, 34, 40, 45, 49]"
      ]
     },
     "execution_count": 45,
     "metadata": {},
     "output_type": "execute_result"
    }
   ],
   "source": [
    "# 오름차순으로 정렬\n",
    "d8.sort()\n",
    "d8"
   ]
  },
  {
   "cell_type": "code",
   "execution_count": 56,
   "id": "3ad6c65a-8cff-44fc-b476-0cf91f285a3a",
   "metadata": {},
   "outputs": [
    {
     "name": "stdout",
     "output_type": "stream",
     "text": [
      "[45, 2, 34, 40, 20, 49, 15]\n",
      "[49, 45, 40, 34, 20, 15, 2]\n",
      "[49, 45, 40, 34, 20, 15, 2]\n"
     ]
    }
   ],
   "source": [
    "# 내림차순 정렬\n",
    "d8 = [15,49,20,40,34,2,45]\n",
    "s_d1 = d8.reverse() # 오름차순으로 정렬한 다음 뒤집기\n",
    "print(d8)\n",
    "\n",
    "d8 = [15,49,20,40,34,2,45]\n",
    "s_d2 = d8.sort(reverse=True)\n",
    "print(d8)\n",
    "\n",
    "s_d3 = sorted(d8)[::-1]\n",
    "print(s_d3)"
   ]
  },
  {
   "cell_type": "code",
   "execution_count": 58,
   "id": "7f7df65c-8320-4a72-a7cf-90ec9aeb1215",
   "metadata": {},
   "outputs": [
    {
     "data": {
      "text/plain": [
       "3"
      ]
     },
     "execution_count": 58,
     "metadata": {},
     "output_type": "execute_result"
    }
   ],
   "source": [
    "# 특정값의 index 알아내기\n",
    "s_d3.index(34)"
   ]
  },
  {
   "cell_type": "code",
   "execution_count": 62,
   "id": "f1f9c118-b55d-4920-b40f-42d51e4f9a3d",
   "metadata": {},
   "outputs": [
    {
     "name": "stdout",
     "output_type": "stream",
     "text": [
      "[49, 45, 40, 100, ['가', '나'], 100, 100, 100, 34, 20, 15, 2]\n",
      "[49, 45, 40, ['가', '나'], 100, ['가', '나'], 100, 100, 100, 34, 20, 15, 2]\n"
     ]
    }
   ],
   "source": [
    "# 값 삽입\n",
    "s_d3.insert(3, 100)\n",
    "print(s_d3)\n",
    "s_d3.insert(3,['가','나'])\n",
    "print(s_d3)"
   ]
  },
  {
   "cell_type": "code",
   "execution_count": 64,
   "id": "a1b94672-51ee-40c1-8917-d4d4a553c1de",
   "metadata": {},
   "outputs": [
    {
     "data": {
      "text/plain": [
       "[49, 45, 40, ['가', '나'], ['가', '나'], 100, 100, 34, 20, 15, 2]"
      ]
     },
     "execution_count": 64,
     "metadata": {},
     "output_type": "execute_result"
    }
   ],
   "source": [
    "# 값 지우기 - 앞에 있는 값이 먼저 지워짐\n",
    "s_d3.remove(100)\n",
    "s_d3"
   ]
  },
  {
   "cell_type": "code",
   "execution_count": 65,
   "id": "c72981bc-2a13-4dac-8702-5278a3ce1456",
   "metadata": {},
   "outputs": [
    {
     "name": "stdout",
     "output_type": "stream",
     "text": [
      "2 [49, 45, 40, ['가', '나'], ['가', '나'], 100, 100, 34, 20, 15]\n"
     ]
    }
   ],
   "source": [
    "# 값 꺼내기 -> pop()\n",
    "s1 = s_d3.pop() #마지막 값이 꺼내지고 리스트에서는 삭제된다.\n",
    "print(s1, s_d3)"
   ]
  },
  {
   "cell_type": "code",
   "execution_count": 66,
   "id": "413e0a7d-dc29-4d60-a54c-7cfdeea61d96",
   "metadata": {},
   "outputs": [
    {
     "name": "stdout",
     "output_type": "stream",
     "text": [
      "40 [49, 45, ['가', '나'], ['가', '나'], 100, 100, 34, 20, 15]\n"
     ]
    }
   ],
   "source": [
    "s2 = s_d3.pop(2) # 해당 인덱스 위치의 값이 떠내지고 리스트에서 삭제됨\n",
    "print(s2, s_d3)"
   ]
  },
  {
   "cell_type": "code",
   "execution_count": 67,
   "id": "13f2ba26-781e-49b4-8525-640578d72f18",
   "metadata": {},
   "outputs": [
    {
     "name": "stdout",
     "output_type": "stream",
     "text": [
      "[1, 2, 3, 4, 5, 6, 7, 8, 9, 11, 12, 13, 14, 15, 16]\n",
      "[11, 12, 13, 14, 15, 16]\n"
     ]
    }
   ],
   "source": [
    "# 리스트의 확장\n",
    "d3 = [1,2,3,4,5,6,7,8,9]\n",
    "d6 = [11,12,13,14,15,16]\n",
    "\n",
    "d3.extend(d6)\n",
    "print(d3)\n",
    "print(d6)"
   ]
  }
 ],
 "metadata": {
  "kernelspec": {
   "display_name": "Python 3",
   "language": "python",
   "name": "python3"
  },
  "language_info": {
   "codemirror_mode": {
    "name": "ipython",
    "version": 3
   },
   "file_extension": ".py",
   "mimetype": "text/x-python",
   "name": "python",
   "nbconvert_exporter": "python",
   "pygments_lexer": "ipython3",
   "version": "3.8.8"
  }
 },
 "nbformat": 4,
 "nbformat_minor": 5
}
