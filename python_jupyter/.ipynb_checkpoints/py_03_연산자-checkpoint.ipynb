{
 "cells": [
  {
   "cell_type": "markdown",
   "id": "7e9aafc1-0c00-4dfd-b0a8-979c72a91191",
   "metadata": {},
   "source": [
    "### 연산자\n",
    "사칙연산자 : +, -, *, /(실수), //(몫), %(나머지), **(거듭제곱)"
   ]
  },
  {
   "cell_type": "code",
   "execution_count": 2,
   "id": "6ee2ec61-60f2-4a52-8287-5a8bcbe2e8b1",
   "metadata": {},
   "outputs": [
    {
     "name": "stdout",
     "output_type": "stream",
     "text": [
      "실수-> 1.6666666666666667\n",
      "몫-> 1\n",
      "거듭제곱-> 125\n"
     ]
    }
   ],
   "source": [
    "print('실수->', 5/3)\n",
    "print('몫->', 5//3)\n",
    "print('거듭제곱->', 5**3)"
   ]
  },
  {
   "cell_type": "code",
   "execution_count": 5,
   "id": "37caf803-25e4-43f5-a287-63c653b1e789",
   "metadata": {},
   "outputs": [
    {
     "data": {
      "text/plain": [
       "(16, 2)"
      ]
     },
     "execution_count": 5,
     "metadata": {},
     "output_type": "execute_result"
    }
   ],
   "source": [
    "# 목과 나머지 구하는 함수\n",
    "divmod(50, 3) # 튜플(몫, 나머지)"
   ]
  },
  {
   "cell_type": "code",
   "execution_count": 7,
   "id": "e3674dd5-793d-472d-88fa-3354600e5921",
   "metadata": {},
   "outputs": [
    {
     "name": "stdin",
     "output_type": "stream",
     "text": [
      "숫자를 입력하세요 5\n",
      "숫자를 입력하세요 6\n"
     ]
    },
    {
     "ename": "NameError",
     "evalue": "name 'c' is not defined",
     "output_type": "error",
     "traceback": [
      "\u001b[1;31m---------------------------------------------------------------------------\u001b[0m",
      "\u001b[1;31mNameError\u001b[0m                                 Traceback (most recent call last)",
      "\u001b[1;32m<ipython-input-7-02c576713ffa>\u001b[0m in \u001b[0;36m<module>\u001b[1;34m\u001b[0m\n\u001b[0;32m      3\u001b[0m \u001b[0ma\u001b[0m \u001b[1;33m=\u001b[0m \u001b[0mint\u001b[0m\u001b[1;33m(\u001b[0m\u001b[0minput\u001b[0m\u001b[1;33m(\u001b[0m\u001b[1;34m'숫자를 입력하세요'\u001b[0m\u001b[1;33m)\u001b[0m\u001b[1;33m)\u001b[0m\u001b[1;33m\u001b[0m\u001b[1;33m\u001b[0m\u001b[0m\n\u001b[0;32m      4\u001b[0m \u001b[0mb\u001b[0m \u001b[1;33m=\u001b[0m \u001b[0mint\u001b[0m\u001b[1;33m(\u001b[0m\u001b[0minput\u001b[0m\u001b[1;33m(\u001b[0m\u001b[1;34m'숫자를 입력하세요'\u001b[0m\u001b[1;33m)\u001b[0m\u001b[1;33m)\u001b[0m\u001b[1;33m\u001b[0m\u001b[1;33m\u001b[0m\u001b[0m\n\u001b[1;32m----> 5\u001b[1;33m \u001b[0mc\u001b[0m\u001b[1;33m+\u001b[0m \u001b[0ma\u001b[0m \u001b[1;33m*\u001b[0m \u001b[0mb\u001b[0m\u001b[1;33m\u001b[0m\u001b[1;33m\u001b[0m\u001b[0m\n\u001b[0m\u001b[0;32m      6\u001b[0m \u001b[0mprint\u001b[0m\u001b[1;33m(\u001b[0m\u001b[1;34m'c='\u001b[0m\u001b[1;33m,\u001b[0m \u001b[0mc\u001b[0m\u001b[1;33m)\u001b[0m\u001b[1;33m\u001b[0m\u001b[1;33m\u001b[0m\u001b[0m\n",
      "\u001b[1;31mNameError\u001b[0m: name 'c' is not defined"
     ]
    }
   ],
   "source": [
    "# 실행 중 정보입력하는 방법\n",
    "# int() : 정수로 변환   float() : 실수로 변한  str : 문자열로 변환\n",
    "a = int(input('숫자를 입력하세요'))\n",
    "b = int(input('숫자를 입력하세요'))\n",
    "c = a * b\n",
    "print('c=', c)"
   ]
  },
  {
   "cell_type": "code",
   "execution_count": null,
   "id": "739edae5-21ca-4e54-bbaa-ce6cd1bd4627",
   "metadata": {},
   "outputs": [],
   "source": []
  }
 ],
 "metadata": {
  "kernelspec": {
   "display_name": "Python 3",
   "language": "python",
   "name": "python3"
  },
  "language_info": {
   "codemirror_mode": {
    "name": "ipython",
    "version": 3
   },
   "file_extension": ".py",
   "mimetype": "text/x-python",
   "name": "python",
   "nbconvert_exporter": "python",
   "pygments_lexer": "ipython3",
   "version": "3.8.8"
  }
 },
 "nbformat": 4,
 "nbformat_minor": 5
}
