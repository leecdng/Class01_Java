{
 "cells": [
  {
   "cell_type": "markdown",
   "id": "b59811c8-dc60-4dc9-9ac0-2b17198bd69f",
   "metadata": {},
   "source": [
    "### 조건문\n",
    "- 조건문 내의 문장을 반드시 tab키를 이용하여 들여쓰기를 해야 한다.\n",
    "- 비교연산자 : <, >, <=, >=, ==, !=\n",
    "- 논리연산자 : and, or, not"
   ]
  },
  {
   "cell_type": "code",
   "execution_count": 1,
   "id": "3725e9d9-aa91-4efd-bbfb-2469dd7815f0",
   "metadata": {},
   "outputs": [
    {
     "name": "stdout",
     "output_type": "stream",
     "text": [
      "택시를 타고 가라.\n",
      "종료됨\n"
     ]
    }
   ],
   "source": [
    "money = True\n",
    "if money :\n",
    "    # 참일 때 실행되는 내용 (tab키 O 스페이스바X)\n",
    "    print('택시를 타고 가라.')\n",
    "else:\n",
    "    #False일 때\n",
    "    print('걸어서 가라.')\n",
    "print('종료됨')"
   ]
  },
  {
   "cell_type": "code",
   "execution_count": 2,
   "id": "92953fca-bc72-4e4b-b037-92aa38bddb42",
   "metadata": {},
   "outputs": [],
   "source": [
    "# in, not in 연산자"
   ]
  },
  {
   "cell_type": "code",
   "execution_count": 11,
   "id": "39e861b1-a8b0-4e28-87b9-2f81d0a15c3f",
   "metadata": {},
   "outputs": [],
   "source": [
    "# list를 이용한 in, not, in 연산자\n",
    "data_list = [13,25,96,24,69,45]"
   ]
  },
  {
   "cell_type": "code",
   "execution_count": 9,
   "id": "b466ec39-338c-4fed-ae32-b518c8a5e6cf",
   "metadata": {},
   "outputs": [
    {
     "name": "stdout",
     "output_type": "stream",
     "text": [
      "True\n"
     ]
    }
   ],
   "source": [
    "result1 = 24 in data_list # 해당 값이 있으면 True\n",
    "print(result1)"
   ]
  },
  {
   "cell_type": "code",
   "execution_count": 7,
   "id": "5b493165-b3b2-46a1-9f66-7b370f502859",
   "metadata": {},
   "outputs": [
    {
     "name": "stdout",
     "output_type": "stream",
     "text": [
      "False\n"
     ]
    }
   ],
   "source": [
    "result2 = 45 not in data_list # 해당 값이 없으면 True\n",
    "print(result2)"
   ]
  },
  {
   "cell_type": "code",
   "execution_count": 17,
   "id": "e8b66026-0836-4b05-a531-d0f512642c4e",
   "metadata": {},
   "outputs": [],
   "source": [
    "# tuple을 이용한 in, not in 연산자\n",
    "data_tuple = (2,8,3,9,4)"
   ]
  },
  {
   "cell_type": "code",
   "execution_count": 19,
   "id": "7362a34a-8c76-4007-bc11-3d8078f5993c",
   "metadata": {},
   "outputs": [
    {
     "name": "stdout",
     "output_type": "stream",
     "text": [
      "True\n"
     ]
    }
   ],
   "source": [
    "result3 = 9 in data_tuple # 해당 값이 있으면 True\n",
    "print(result3)"
   ]
  },
  {
   "cell_type": "code",
   "execution_count": 20,
   "id": "d87861a0-0505-4c87-9966-68f734772e14",
   "metadata": {},
   "outputs": [
    {
     "name": "stdout",
     "output_type": "stream",
     "text": [
      "False\n"
     ]
    }
   ],
   "source": [
    "result4 = 9 not in data_tuple # 해당 값이 없으면 True\n",
    "print(result4)"
   ]
  },
  {
   "cell_type": "code",
   "execution_count": 21,
   "id": "f809d86e-ab4d-4246-b442-ad8642533647",
   "metadata": {},
   "outputs": [],
   "source": [
    "# 문자열을 이용한 in, not in 연산자\n",
    "data_str = 'Test python in, not in'"
   ]
  },
  {
   "cell_type": "code",
   "execution_count": 23,
   "id": "ba3d30e6-b552-407f-97ae-06449ba0c0be",
   "metadata": {},
   "outputs": [
    {
     "name": "stdout",
     "output_type": "stream",
     "text": [
      "False\n",
      "True\n"
     ]
    }
   ],
   "source": [
    "result5 = 'x' in data_str; # 해당 값이 있으면 True\n",
    "print(result5)\n",
    "print('not' in data_str)"
   ]
  },
  {
   "cell_type": "code",
   "execution_count": 24,
   "id": "f4ec25ff-3310-43e9-85f0-9c66eac1d765",
   "metadata": {},
   "outputs": [
    {
     "name": "stdout",
     "output_type": "stream",
     "text": [
      "False\n"
     ]
    }
   ],
   "source": [
    "result6 = 'not' not in data_str # 해당 값이 없으면 True\n",
    "print(result6)"
   ]
  },
  {
   "cell_type": "code",
   "execution_count": 25,
   "id": "14634333-2413-485c-8107-5c299f71b2b0",
   "metadata": {},
   "outputs": [
    {
     "name": "stdout",
     "output_type": "stream",
     "text": [
      "모범택시를 타라.\n"
     ]
    }
   ],
   "source": [
    "# if문을 이용한 in, not in 연산자\n",
    "# 내 주머니에 있는...\n",
    "poket = ['핸드폰', '지갑', '돈', '열쇠']\n",
    "if '돈' in poket:\n",
    "    print('모범택시를 타라.')\n",
    "else:\n",
    "    print('걸어서 가라.')"
   ]
  },
  {
   "cell_type": "code",
   "execution_count": 26,
   "id": "7635d3ff-f1ef-4594-b6c6-650b75eb6ad3",
   "metadata": {},
   "outputs": [
    {
     "name": "stdout",
     "output_type": "stream",
     "text": [
      "택시를 타라.\n"
     ]
    }
   ],
   "source": [
    "if '돈' not in poket:\n",
    "    pass\n",
    "else:\n",
    "    print('택시를 타라.')"
   ]
  },
  {
   "cell_type": "code",
   "execution_count": null,
   "id": "62e86317-f95c-4346-8b6a-c3a3b6505432",
   "metadata": {},
   "outputs": [],
   "source": [
    "# if 조건식 :\n",
    "#     실행문\n",
    "# elif 조건식 :\n",
    "#     실행문\n",
    "# else\n",
    "#     실행문"
   ]
  },
  {
   "cell_type": "code",
   "execution_count": null,
   "id": "ab530db9-facc-4ca2-9f1f-69c8d69738e2",
   "metadata": {},
   "outputs": [],
   "source": [
    "#\n",
    "#if 조건식 :\n",
    "#    실행문\n",
    "#    if 조건문:\n",
    "#        실행문\n",
    "#    else:\n",
    "#        실행문\n",
    "#        실행문\n",
    "#    실행문 # 첫 번째 if문에 대한 실행문\n",
    "#else:\n",
    "#    실행문\n",
    "    "
   ]
  },
  {
   "cell_type": "code",
   "execution_count": 29,
   "id": "87383558-651b-438a-9a47-a27fc6f82350",
   "metadata": {},
   "outputs": [
    {
     "name": "stdout",
     "output_type": "stream",
     "text": [
      "pass\n"
     ]
    }
   ],
   "source": [
    "# 평균이 60점이면 합격, 60점 미만이면 불합격\n",
    "ave = 61\n",
    "if ave>=60:\n",
    "    print('pass')\n",
    "else:\n",
    "    print('fail')"
   ]
  },
  {
   "cell_type": "code",
   "execution_count": 30,
   "id": "f0cadf3f-6a4a-47a8-9934-9138eed53058",
   "metadata": {},
   "outputs": [
    {
     "name": "stdout",
     "output_type": "stream",
     "text": [
      "pass\n"
     ]
    }
   ],
   "source": [
    "message = 'pass' if ave>=60 else 'fale'\n",
    "print(message)"
   ]
  }
 ],
 "metadata": {
  "kernelspec": {
   "display_name": "Python 3",
   "language": "python",
   "name": "python3"
  },
  "language_info": {
   "codemirror_mode": {
    "name": "ipython",
    "version": 3
   },
   "file_extension": ".py",
   "mimetype": "text/x-python",
   "name": "python",
   "nbconvert_exporter": "python",
   "pygments_lexer": "ipython3",
   "version": "3.8.8"
  }
 },
 "nbformat": 4,
 "nbformat_minor": 5
}
