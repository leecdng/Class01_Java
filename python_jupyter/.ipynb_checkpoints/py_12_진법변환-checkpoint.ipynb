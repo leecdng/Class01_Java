{
 "cells": [
  {
   "cell_type": "markdown",
   "id": "724502f2-f49f-4054-b1de-bd559f34ebf2",
   "metadata": {},
   "source": [
    "### 진법 변환\n",
    "- 16진수 -> hex(), 0x8a\n",
    "- 10진수 -> int()\n",
    "- 8진수 -> oct(), 0o736\n",
    "- 2진수 -> bin(), 0b1001"
   ]
  },
  {
   "cell_type": "code",
   "execution_count": 18,
   "id": "57ee5ed0-6ff6-4315-a836-909ba9c0af54",
   "metadata": {},
   "outputs": [
    {
     "name": "stdin",
     "output_type": "stream",
     "text": [
      "진법을 입력하세요. [16/10/8/2] -> ?  2\n",
      "정수를 입력하세요. 12\n"
     ]
    },
    {
     "name": "stdout",
     "output_type": "stream",
     "text": [
      "12 2진법 변환->0b1100\n"
     ]
    }
   ],
   "source": [
    "# 진법과 10진수를 입력받아 해당 진법을 이용하여 값을 변환하여 출력하낟.\n",
    "sel = int(input('진법을 입력하세요. [16/10/8/2] -> ? '))\n",
    "num = int(input('정수를 입력하세요.'))\n",
    "\n",
    "if sel == 16 :\n",
    "    result = hex(num)\n",
    "    print(f'{num} 16진법 변환->{result}')\n",
    "elif sel == 10 :\n",
    "    result = num\n",
    "    print(f'{num} 10진법 변환->{result}')\n",
    "elif sel == 8 :\n",
    "    result=oct(num)\n",
    "    print(f'{num} 8진법 변환->{result}')\n",
    "elif sel == 2 :\n",
    "    result=bin(num)\n",
    "    print(f'{num} 2진법 변환->{result}')\n",
    "else :\n",
    "    print('진법을 잘못 입력하였습니다.')\n"
   ]
  },
  {
   "cell_type": "code",
   "execution_count": null,
   "id": "61c7636e-b3f9-4614-b280-59492cf3f76b",
   "metadata": {},
   "outputs": [],
   "source": []
  },
  {
   "cell_type": "code",
   "execution_count": null,
   "id": "0fa21513-177e-44d2-ba8c-97d0dde84473",
   "metadata": {},
   "outputs": [],
   "source": []
  },
  {
   "cell_type": "code",
   "execution_count": null,
   "id": "74bd3fd4-baa7-4ef3-bf0d-b93bc4ee9449",
   "metadata": {},
   "outputs": [],
   "source": []
  },
  {
   "cell_type": "code",
   "execution_count": null,
   "id": "729fe41d-b04e-4a51-855e-c939e547c200",
   "metadata": {},
   "outputs": [],
   "source": []
  },
  {
   "cell_type": "code",
   "execution_count": null,
   "id": "7170b597-3733-475c-bc6f-749801477b08",
   "metadata": {},
   "outputs": [],
   "source": []
  }
 ],
 "metadata": {
  "kernelspec": {
   "display_name": "Python 3",
   "language": "python",
   "name": "python3"
  },
  "language_info": {
   "codemirror_mode": {
    "name": "ipython",
    "version": 3
   },
   "file_extension": ".py",
   "mimetype": "text/x-python",
   "name": "python",
   "nbconvert_exporter": "python",
   "pygments_lexer": "ipython3",
   "version": "3.8.8"
  }
 },
 "nbformat": 4,
 "nbformat_minor": 5
}
