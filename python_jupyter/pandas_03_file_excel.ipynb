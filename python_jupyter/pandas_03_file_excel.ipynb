{
 "cells": [
  {
   "cell_type": "code",
   "execution_count": 1,
   "id": "cf831e1a-b9b7-4321-a528-b6f4e53708e7",
   "metadata": {},
   "outputs": [],
   "source": [
    "import pandas as pd"
   ]
  },
  {
   "cell_type": "code",
   "execution_count": 2,
   "id": "7b3fe833-d92b-4785-b429-245e82241683",
   "metadata": {},
   "outputs": [
    {
     "data": {
      "text/html": [
       "<div>\n",
       "<style scoped>\n",
       "    .dataframe tbody tr th:only-of-type {\n",
       "        vertical-align: middle;\n",
       "    }\n",
       "\n",
       "    .dataframe tbody tr th {\n",
       "        vertical-align: top;\n",
       "    }\n",
       "\n",
       "    .dataframe thead th {\n",
       "        text-align: right;\n",
       "    }\n",
       "</style>\n",
       "<table border=\"1\" class=\"dataframe\">\n",
       "  <thead>\n",
       "    <tr style=\"text-align: right;\">\n",
       "      <th></th>\n",
       "      <th>time</th>\n",
       "      <th>sin</th>\n",
       "      <th>cos</th>\n",
       "      <th>tan</th>\n",
       "    </tr>\n",
       "  </thead>\n",
       "  <tbody>\n",
       "    <tr>\n",
       "      <th>0</th>\n",
       "      <td>0.01</td>\n",
       "      <td>0.010000</td>\n",
       "      <td>0.999950</td>\n",
       "      <td>0.010000</td>\n",
       "    </tr>\n",
       "    <tr>\n",
       "      <th>1</th>\n",
       "      <td>0.03</td>\n",
       "      <td>0.029996</td>\n",
       "      <td>0.999550</td>\n",
       "      <td>0.030009</td>\n",
       "    </tr>\n",
       "    <tr>\n",
       "      <th>2</th>\n",
       "      <td>0.05</td>\n",
       "      <td>0.049979</td>\n",
       "      <td>0.998750</td>\n",
       "      <td>0.050042</td>\n",
       "    </tr>\n",
       "    <tr>\n",
       "      <th>3</th>\n",
       "      <td>0.07</td>\n",
       "      <td>0.069943</td>\n",
       "      <td>0.997551</td>\n",
       "      <td>0.070115</td>\n",
       "    </tr>\n",
       "    <tr>\n",
       "      <th>4</th>\n",
       "      <td>0.09</td>\n",
       "      <td>0.089879</td>\n",
       "      <td>0.995953</td>\n",
       "      <td>0.090244</td>\n",
       "    </tr>\n",
       "    <tr>\n",
       "      <th>...</th>\n",
       "      <td>...</td>\n",
       "      <td>...</td>\n",
       "      <td>...</td>\n",
       "      <td>...</td>\n",
       "    </tr>\n",
       "    <tr>\n",
       "      <th>494</th>\n",
       "      <td>9.89</td>\n",
       "      <td>-0.448621</td>\n",
       "      <td>-0.893722</td>\n",
       "      <td>0.501970</td>\n",
       "    </tr>\n",
       "    <tr>\n",
       "      <th>495</th>\n",
       "      <td>9.91</td>\n",
       "      <td>-0.466405</td>\n",
       "      <td>-0.884571</td>\n",
       "      <td>0.527266</td>\n",
       "    </tr>\n",
       "    <tr>\n",
       "      <th>496</th>\n",
       "      <td>9.93</td>\n",
       "      <td>-0.484002</td>\n",
       "      <td>-0.875067</td>\n",
       "      <td>0.553102</td>\n",
       "    </tr>\n",
       "    <tr>\n",
       "      <th>497</th>\n",
       "      <td>9.95</td>\n",
       "      <td>-0.501405</td>\n",
       "      <td>-0.865213</td>\n",
       "      <td>0.579517</td>\n",
       "    </tr>\n",
       "    <tr>\n",
       "      <th>498</th>\n",
       "      <td>9.97</td>\n",
       "      <td>-0.518608</td>\n",
       "      <td>-0.855012</td>\n",
       "      <td>0.606550</td>\n",
       "    </tr>\n",
       "  </tbody>\n",
       "</table>\n",
       "<p>499 rows × 4 columns</p>\n",
       "</div>"
      ],
      "text/plain": [
       "     time       sin       cos       tan\n",
       "0    0.01  0.010000  0.999950  0.010000\n",
       "1    0.03  0.029996  0.999550  0.030009\n",
       "2    0.05  0.049979  0.998750  0.050042\n",
       "3    0.07  0.069943  0.997551  0.070115\n",
       "4    0.09  0.089879  0.995953  0.090244\n",
       "..    ...       ...       ...       ...\n",
       "494  9.89 -0.448621 -0.893722  0.501970\n",
       "495  9.91 -0.466405 -0.884571  0.527266\n",
       "496  9.93 -0.484002 -0.875067  0.553102\n",
       "497  9.95 -0.501405 -0.865213  0.579517\n",
       "498  9.97 -0.518608 -0.855012  0.606550\n",
       "\n",
       "[499 rows x 4 columns]"
      ]
     },
     "metadata": {},
     "output_type": "display_data"
    }
   ],
   "source": [
    "excelData = pd.read_excel('testFile/testExcel.xlsx')\n",
    "display(excelData)"
   ]
  },
  {
   "cell_type": "code",
   "execution_count": 4,
   "id": "2777fb7b-45fc-4464-934e-2fbef664b81b",
   "metadata": {},
   "outputs": [
    {
     "name": "stdout",
     "output_type": "stream",
     "text": [
      "<class 'pandas.core.frame.DataFrame'>\n",
      "RangeIndex: 499 entries, 0 to 498\n",
      "Data columns (total 4 columns):\n",
      " #   Column  Non-Null Count  Dtype  \n",
      "---  ------  --------------  -----  \n",
      " 0   time    499 non-null    float64\n",
      " 1   sin     499 non-null    float64\n",
      " 2   cos     499 non-null    float64\n",
      " 3   tan     499 non-null    float64\n",
      "dtypes: float64(4)\n",
      "memory usage: 15.7 KB\n"
     ]
    }
   ],
   "source": [
    "# dataFrame에 info 메서드 실행\n",
    "excelData.info()"
   ]
  },
  {
   "cell_type": "code",
   "execution_count": 5,
   "id": "1e80b2a1-7407-42e4-a2b4-8ec573309cdf",
   "metadata": {},
   "outputs": [
    {
     "data": {
      "text/html": [
       "<div>\n",
       "<style scoped>\n",
       "    .dataframe tbody tr th:only-of-type {\n",
       "        vertical-align: middle;\n",
       "    }\n",
       "\n",
       "    .dataframe tbody tr th {\n",
       "        vertical-align: top;\n",
       "    }\n",
       "\n",
       "    .dataframe thead th {\n",
       "        text-align: right;\n",
       "    }\n",
       "</style>\n",
       "<table border=\"1\" class=\"dataframe\">\n",
       "  <thead>\n",
       "    <tr style=\"text-align: right;\">\n",
       "      <th></th>\n",
       "      <th>time</th>\n",
       "      <th>sin</th>\n",
       "      <th>cos</th>\n",
       "      <th>tan</th>\n",
       "    </tr>\n",
       "  </thead>\n",
       "  <tbody>\n",
       "    <tr>\n",
       "      <th>count</th>\n",
       "      <td>499.000000</td>\n",
       "      <td>499.000000</td>\n",
       "      <td>499.000000</td>\n",
       "      <td>499.000000</td>\n",
       "    </tr>\n",
       "    <tr>\n",
       "      <th>mean</th>\n",
       "      <td>4.990000</td>\n",
       "      <td>0.185352</td>\n",
       "      <td>-0.052820</td>\n",
       "      <td>3.754748</td>\n",
       "    </tr>\n",
       "    <tr>\n",
       "      <th>std</th>\n",
       "      <td>2.883863</td>\n",
       "      <td>0.666401</td>\n",
       "      <td>0.721594</td>\n",
       "      <td>60.674947</td>\n",
       "    </tr>\n",
       "    <tr>\n",
       "      <th>min</th>\n",
       "      <td>0.010000</td>\n",
       "      <td>-0.999997</td>\n",
       "      <td>-0.999986</td>\n",
       "      <td>-62.423000</td>\n",
       "    </tr>\n",
       "    <tr>\n",
       "      <th>25%</th>\n",
       "      <td>2.500000</td>\n",
       "      <td>-0.388678</td>\n",
       "      <td>-0.796083</td>\n",
       "      <td>-0.899230</td>\n",
       "    </tr>\n",
       "    <tr>\n",
       "      <th>50%</th>\n",
       "      <td>4.990000</td>\n",
       "      <td>0.321028</td>\n",
       "      <td>-0.095871</td>\n",
       "      <td>0.070115</td>\n",
       "    </tr>\n",
       "    <tr>\n",
       "      <th>75%</th>\n",
       "      <td>7.480000</td>\n",
       "      <td>0.812487</td>\n",
       "      <td>0.673699</td>\n",
       "      <td>0.927145</td>\n",
       "    </tr>\n",
       "    <tr>\n",
       "      <th>max</th>\n",
       "      <td>9.970000</td>\n",
       "      <td>1.000000</td>\n",
       "      <td>0.999977</td>\n",
       "      <td>1255.765592</td>\n",
       "    </tr>\n",
       "  </tbody>\n",
       "</table>\n",
       "</div>"
      ],
      "text/plain": [
       "             time         sin         cos          tan\n",
       "count  499.000000  499.000000  499.000000   499.000000\n",
       "mean     4.990000    0.185352   -0.052820     3.754748\n",
       "std      2.883863    0.666401    0.721594    60.674947\n",
       "min      0.010000   -0.999997   -0.999986   -62.423000\n",
       "25%      2.500000   -0.388678   -0.796083    -0.899230\n",
       "50%      4.990000    0.321028   -0.095871     0.070115\n",
       "75%      7.480000    0.812487    0.673699     0.927145\n",
       "max      9.970000    1.000000    0.999977  1255.765592"
      ]
     },
     "execution_count": 5,
     "metadata": {},
     "output_type": "execute_result"
    }
   ],
   "source": [
    "excelData.describe() # 각 통계 구해줌"
   ]
  },
  {
   "cell_type": "code",
   "execution_count": 6,
   "id": "cfc1e7da-5484-4a1a-98bb-518dd219bed8",
   "metadata": {},
   "outputs": [
    {
     "name": "stderr",
     "output_type": "stream",
     "text": [
      "Matplotlib is building the font cache; this may take a moment.\n"
     ]
    }
   ],
   "source": [
    "# 그래프 그리기\n",
    "import matplotlib.pyplot as plt"
   ]
  },
  {
   "cell_type": "code",
   "execution_count": 27,
   "id": "d9d55fa5-cace-46be-acbf-a1e2463cb319",
   "metadata": {},
   "outputs": [
    {
     "name": "stderr",
     "output_type": "stream",
     "text": [
      "C:\\Users\\omle5\\anaconda3\\lib\\site-packages\\matplotlib\\backends\\backend_agg.py:238: RuntimeWarning: Glyph 52629 missing from current font.\n",
      "  font.set_text(s, 0.0, flags=flags)\n",
      "C:\\Users\\omle5\\anaconda3\\lib\\site-packages\\matplotlib\\backends\\backend_agg.py:238: RuntimeWarning: Glyph 46972 missing from current font.\n",
      "  font.set_text(s, 0.0, flags=flags)\n",
      "C:\\Users\\omle5\\anaconda3\\lib\\site-packages\\matplotlib\\backends\\backend_agg.py:238: RuntimeWarning: Glyph 48296 missing from current font.\n",
      "  font.set_text(s, 0.0, flags=flags)\n",
      "C:\\Users\\omle5\\anaconda3\\lib\\site-packages\\matplotlib\\backends\\backend_agg.py:201: RuntimeWarning: Glyph 52629 missing from current font.\n",
      "  font.set_text(s, 0, flags=flags)\n",
      "C:\\Users\\omle5\\anaconda3\\lib\\site-packages\\matplotlib\\backends\\backend_agg.py:201: RuntimeWarning: Glyph 46972 missing from current font.\n",
      "  font.set_text(s, 0, flags=flags)\n",
      "C:\\Users\\omle5\\anaconda3\\lib\\site-packages\\matplotlib\\backends\\backend_agg.py:201: RuntimeWarning: Glyph 48296 missing from current font.\n",
      "  font.set_text(s, 0, flags=flags)\n"
     ]
    },
    {
     "data": {
      "image/png": "[encoded data removed]",
      "text/plain": [
       "<Figure size 720x288 with 1 Axes>"
      ]
     },
     "metadata": {
      "needs_background": "light"
     },
     "output_type": "display_data"
    }
   ],
   "source": [
    "# 그래프 크기를 비율로 설정\n",
    "plt.figure(figsize=(10,4)) # 가로, 세로 비율을 10대 4로 설정\n",
    "#        x축, y축\n",
    "plt.plot(excelData.time, excelData.sin, label='sin') # 그래프 그리기\n",
    "plt.plot(excelData.time, excelData.cos, label='cos')\n",
    "\n",
    "# x축, y축 라벨 표시\n",
    "plt.xlabel('X축 라벨')\n",
    "plt.ylabel('Y축 라벨')\n",
    "\n",
    "# 그리드 표시하기\n",
    "plt.grid(True) # 안내선\n",
    "\n",
    "# 축 범위\n",
    "plt.xlim(0, 10)\n",
    "plt.ylim(-1, 1)\n",
    "\n",
    "# 축 범위2\n",
    "#        x축 범위, y축 범위\n",
    "# plt.axis([-2, 12, -1.5, 1.5]) # 리스트로 담아주기\n",
    "\n",
    "#plt.show()\n",
    "\n",
    "# 그래프를 이미지로 저장하기 # show()를 실행할 경우 파일로 저장이 되지 않음\n",
    "plt.savefig('d:/python_jupyter/sin.png')"
   ]
  },
  {
   "cell_type": "code",
   "execution_count": 34,
   "id": "6268ff04-c4b5-4e71-b32a-16f51ee57fcc",
   "metadata": {},
   "outputs": [
    {
     "data": {
      "image/png": "[encoded data removed]",
      "text/plain": [
       "<Figure size 1440x288 with 1 Axes>"
      ]
     },
     "metadata": {
      "needs_background": "light"
     },
     "output_type": "display_data"
    }
   ],
   "source": [
    "# tan으로 그래프 그리기\n",
    "plt.figure(figsize=(20,4))\n",
    "plt.plot(excelData.time, excelData.tan, label='tan')\n",
    "\n",
    "plt.xlabel('tan')\n",
    "plt.grid(True)\n",
    "\n",
    "#lt.show()\n",
    "plt.savefig('d:/python_jupyter/tan.png')"
   ]
  },
  {
   "cell_type": "code",
   "execution_count": 35,
   "id": "1baf26af-db46-470d-9ea1-408374d5fb5d",
   "metadata": {},
   "outputs": [
    {
     "data": {
      "image/png": "[encoded data removed]",
      "text/plain": [
       "<Figure size 432x288 with 1 Axes>"
      ]
     },
     "metadata": {
      "needs_background": "light"
     },
     "output_type": "display_data"
    }
   ],
   "source": [
    "# 막대 그래프\n",
    "excelData.sin.hist(bins=5)\n",
    "plt.savefig('d:/python_jupyter/hist.png')"
   ]
  },
  {
   "cell_type": "code",
   "execution_count": 36,
   "id": "a7908d32-8ec4-4569-9b74-378b64cbda74",
   "metadata": {},
   "outputs": [
    {
     "data": {
      "image/png": "[encoded data removed]",
      "text/plain": [
       "<Figure size 432x288 with 1 Axes>"
      ]
     },
     "metadata": {
      "needs_background": "light"
     },
     "output_type": "display_data"
    }
   ],
   "source": [
    "excelData.boxplot(column='cos')\n",
    "plt.savefig('d:/python_jupyter/boxplot.png')"
   ]
  },
  {
   "cell_type": "code",
   "execution_count": null,
   "id": "7d4747c3-47ee-4bf2-a356-490ccaf3d87e",
   "metadata": {},
   "outputs": [],
   "source": []
  },
  {
   "cell_type": "code",
   "execution_count": null,
   "id": "2afed67e-1e8b-470b-9607-f7080746bc6e",
   "metadata": {},
   "outputs": [],
   "source": []
  }
 ],
 "metadata": {
  "kernelspec": {
   "display_name": "Python 3",
   "language": "python",
   "name": "python3"
  },
  "language_info": {
   "codemirror_mode": {
    "name": "ipython",
    "version": 3
   },
   "file_extension": ".py",
   "mimetype": "text/x-python",
   "name": "python",
   "nbconvert_exporter": "python",
   "pygments_lexer": "ipython3",
   "version": "3.8.8"
  }
 },
 "nbformat": 4,
 "nbformat_minor": 5
}
