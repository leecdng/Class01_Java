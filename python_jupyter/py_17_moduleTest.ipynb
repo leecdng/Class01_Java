{
 "cells": [
  {
   "cell_type": "markdown",
   "id": "3245607f-2d60-4820-85e0-8ef80180cad1",
   "metadata": {},
   "source": [
    "### 모듈은 py 확장자로 생성한다."
   ]
  },
  {
   "cell_type": "code",
   "execution_count": 1,
   "id": "b028ce84-e8af-41db-8bb2-1efc836a4f96",
   "metadata": {},
   "outputs": [],
   "source": [
    "from module import addData"
   ]
  },
  {
   "cell_type": "code",
   "execution_count": 4,
   "id": "388fea61-6dd9-46a8-aeec-832830f672d6",
   "metadata": {},
   "outputs": [
    {
     "name": "stdout",
     "output_type": "stream",
     "text": [
      "130\n"
     ]
    }
   ],
   "source": [
    "result = addData(50, 80)\n",
    "print(result)"
   ]
  },
  {
   "cell_type": "code",
   "execution_count": 5,
   "id": "e9419c00-b708-4c4e-bcc3-ae37e009671f",
   "metadata": {},
   "outputs": [
    {
     "name": "stdout",
     "output_type": "stream",
     "text": [
      "9*2=18\n",
      "9*3=27\n",
      "9*4=36\n",
      "9*5=45\n",
      "9*6=54\n",
      "9*7=63\n",
      "9*8=72\n",
      "9*9=81\n"
     ]
    }
   ],
   "source": [
    "from module import gugudan\n",
    "gugudan(9)"
   ]
  },
  {
   "cell_type": "code",
   "execution_count": null,
   "id": "cb17c055-39c5-4932-96e5-495c9cf0f02a",
   "metadata": {},
   "outputs": [],
   "source": []
  },
  {
   "cell_type": "code",
   "execution_count": null,
   "id": "0f06c3b3-e92e-4271-9cc1-389de0bc33d2",
   "metadata": {},
   "outputs": [],
   "source": []
  },
  {
   "cell_type": "code",
   "execution_count": null,
   "id": "f5c766a4-5d6d-4436-90f8-dfcb6de19fbb",
   "metadata": {},
   "outputs": [],
   "source": []
  }
 ],
 "metadata": {
  "kernelspec": {
   "display_name": "Python 3",
   "language": "python",
   "name": "python3"
  },
  "language_info": {
   "codemirror_mode": {
    "name": "ipython",
    "version": 3
   },
   "file_extension": ".py",
   "mimetype": "text/x-python",
   "name": "python",
   "nbconvert_exporter": "python",
   "pygments_lexer": "ipython3",
   "version": "3.8.8"
  }
 },
 "nbformat": 4,
 "nbformat_minor": 5
}
