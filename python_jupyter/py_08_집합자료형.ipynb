{
 "cells": [
  {
   "cell_type": "markdown",
   "id": "7a7d62cb-5199-483a-a72a-59441a8f5cfd",
   "metadata": {},
   "source": [
    "### 집합자료형\n",
    "집합에 관련된 자료형으로 처리하기 위해 만든 자료형이다. set()으로 생성할 수 있다. <br/>\n",
    "\n",
    "- 중복을 허용하지 않는다 <br/>\n",
    "- 저장 순서가 없다. <br/>\n",
    "- 크기순으로으로 정렬한다. (ascending)"
   ]
  },
  {
   "cell_type": "code",
   "execution_count": 2,
   "id": "b403cb04-9050-4aa6-a243-704f3ec2d810",
   "metadata": {},
   "outputs": [
    {
     "name": "stdout",
     "output_type": "stream",
     "text": [
      "[75, 44, 93, 14, 35, 66, 61]\n",
      "{66, 35, 75, 44, 14, 61, 93}\n"
     ]
    }
   ],
   "source": [
    "# 리스트데이터를 이용하여 set을 생성한다.\n",
    "data = [75,44,93,14,35,66,61]\n",
    "print(data)\n",
    "\n",
    "s1 = set(data) # 한 자리 수들만 오름차순 정렬하고 두 자리수부턴 정렬 안 함(?)\n",
    "print(s1)"
   ]
  },
  {
   "cell_type": "code",
   "execution_count": 8,
   "id": "a75496e3-9d11-4f3a-831e-55e84872d73e",
   "metadata": {},
   "outputs": [
    {
     "name": "stdout",
     "output_type": "stream",
     "text": [
      "{'e', 'l', 'w', 'H', 'd', 'o', '.', ' ', 'r'}\n",
      "{'2', '4', '6', '8', '5'}\n"
     ]
    }
   ],
   "source": [
    "# 문자열 이용하여 set을 생성하기 // 중복 허용 안 함\n",
    "s2 = set('Hello world...')\n",
    "print(s2)\n",
    "\n",
    "s3 = set('4568284')\n",
    "print(s3)"
   ]
  },
  {
   "cell_type": "code",
   "execution_count": 5,
   "id": "24dc09a3-d115-421f-8474-11d897a7a9e9",
   "metadata": {},
   "outputs": [
    {
     "name": "stdout",
     "output_type": "stream",
     "text": [
      "['2', '4', '6', '8', '5']\n"
     ]
    }
   ],
   "source": [
    "# set을 리스트로 형변환 // 중괄호가 대괄호로 변해있음\n",
    "lst = list(s3)\n",
    "print(lst)"
   ]
  },
  {
   "cell_type": "code",
   "execution_count": 6,
   "id": "c2205847-18ab-426f-85fd-a4cc7fb066ae",
   "metadata": {},
   "outputs": [
    {
     "name": "stdout",
     "output_type": "stream",
     "text": [
      "('2', '4', '6', '8', '5')\n"
     ]
    }
   ],
   "source": [
    "# set을 튜플로 형변환 // 튜플은 한 번 들어가면 변경 불가\n",
    "tup = tuple(s3)\n",
    "print(tup)"
   ]
  },
  {
   "cell_type": "markdown",
   "id": "3f4576f6-e8e5-4156-80c9-db462ee2933d",
   "metadata": {},
   "source": [
    "### 교집합, 합집합, 차집합 구하기"
   ]
  },
  {
   "cell_type": "code",
   "execution_count": 12,
   "id": "98169a01-3765-4731-b2b6-ff1f760f561c",
   "metadata": {},
   "outputs": [
    {
     "name": "stdout",
     "output_type": "stream",
     "text": [
      "{1, 2, 3, 4, 5, 6, 7, 8}\n",
      "{5, 6, 7, 8, 9, 10}\n"
     ]
    }
   ],
   "source": [
    "set4 = set([1,2,3,4,5,6,7,8])\n",
    "set5 = set([5,6,7,8,9,10])\n",
    "print(set4)\n",
    "print(set5)"
   ]
  },
  {
   "cell_type": "code",
   "execution_count": null,
   "id": "8842cd53-2fd2-4433-8936-85a77125d207",
   "metadata": {},
   "outputs": [],
   "source": [
    "# 교집합 ( & : 교집합을 구하는 연산자, ( intersection() ))"
   ]
  },
  {
   "cell_type": "code",
   "execution_count": 10,
   "id": "114c3ab4-c3b3-4d55-bba6-1f2e003bf5c9",
   "metadata": {},
   "outputs": [
    {
     "name": "stdout",
     "output_type": "stream",
     "text": [
      "{8, 5, 6, 7}\n"
     ]
    }
   ],
   "source": [
    "set6 = set4 & set5\n",
    "print(set6)"
   ]
  },
  {
   "cell_type": "code",
   "execution_count": 11,
   "id": "2a2376cf-b0d9-420a-acf0-228841942e1b",
   "metadata": {},
   "outputs": [
    {
     "name": "stdout",
     "output_type": "stream",
     "text": [
      "{8, 5, 6, 7}\n"
     ]
    }
   ],
   "source": [
    "set7 = set4.intersection(set5)\n",
    "print(set7)"
   ]
  },
  {
   "cell_type": "code",
   "execution_count": 13,
   "id": "82ca0353-8c37-403f-acf9-d07c8bd3ad60",
   "metadata": {},
   "outputs": [
    {
     "name": "stdout",
     "output_type": "stream",
     "text": [
      "{1, 2, 3, 4, 5, 6, 7, 8, 9, 10}\n"
     ]
    }
   ],
   "source": [
    "# 합집합 ( | : 합집합을 구하는 연산자, union()과 동일)\n",
    "set8 = set4 | set5\n",
    "print(set8)"
   ]
  },
  {
   "cell_type": "code",
   "execution_count": 14,
   "id": "0cf20c1c-ed24-4802-a7ac-067fadc75a2a",
   "metadata": {},
   "outputs": [
    {
     "name": "stdout",
     "output_type": "stream",
     "text": [
      "{1, 2, 3, 4, 5, 6, 7, 8, 9, 10}\n"
     ]
    }
   ],
   "source": [
    "set9 = set4.union(set5)\n",
    "print(set9)"
   ]
  },
  {
   "cell_type": "code",
   "execution_count": 17,
   "id": "4f7ec1ba-b337-4f24-bcb0-6292a78fa6d8",
   "metadata": {},
   "outputs": [
    {
     "name": "stdout",
     "output_type": "stream",
     "text": [
      "{1, 2, 3, 4}\n"
     ]
    }
   ],
   "source": [
    "# 차집합 ( - : 차집합 구하는 연산자, difference와 동일) -> set4에서 set5에 있는 데이터를 제외한다.\n",
    "set10 = set4 - set5\n",
    "print(set10)"
   ]
  },
  {
   "cell_type": "code",
   "execution_count": 16,
   "id": "c9e3349a-2d8d-4f43-b47e-082d1175e151",
   "metadata": {},
   "outputs": [
    {
     "name": "stdout",
     "output_type": "stream",
     "text": [
      "{1, 2, 3, 4}\n"
     ]
    }
   ],
   "source": [
    "set11 = set4.difference(set5)\n",
    "print(set11)"
   ]
  },
  {
   "cell_type": "markdown",
   "id": "8f8f4a5b-2a0e-46c0-905e-434252bbf443",
   "metadata": {},
   "source": [
    "### 집합자료형 관련 함수"
   ]
  },
  {
   "cell_type": "code",
   "execution_count": 19,
   "id": "6ffb0d37-355f-43ed-b674-f9d9a602f01e",
   "metadata": {},
   "outputs": [],
   "source": [
    "ss = set([10,11,12])"
   ]
  },
  {
   "cell_type": "code",
   "execution_count": 20,
   "id": "fae7521a-8950-4581-b437-38476edc0bb7",
   "metadata": {},
   "outputs": [
    {
     "name": "stdout",
     "output_type": "stream",
     "text": [
      "{100, 10, 11, 12}\n"
     ]
    }
   ],
   "source": [
    "# set 자료형에 1개의 데이터 추가하기\n",
    "ss.add(100)\n",
    "print(ss)"
   ]
  },
  {
   "cell_type": "code",
   "execution_count": 21,
   "id": "f95349f2-3fd9-45bb-bd51-541f4c3f4440",
   "metadata": {},
   "outputs": [
    {
     "name": "stdout",
     "output_type": "stream",
     "text": [
      "{100, 10, 11, 12, 21, 22, 23}\n"
     ]
    }
   ],
   "source": [
    "# set 자료형에 여러 개의 데이터 추가하기\n",
    "ss.update([21,22,23])\n",
    "print(ss)"
   ]
  },
  {
   "cell_type": "code",
   "execution_count": 22,
   "id": "e5d4713b-68f1-4a9d-bbf4-d0992c864546",
   "metadata": {},
   "outputs": [
    {
     "name": "stdout",
     "output_type": "stream",
     "text": [
      "{10, 11, 12, 21, 22, 23}\n"
     ]
    }
   ],
   "source": [
    "# 특정 데이터 지우기\n",
    "ss.remove(100)\n",
    "print(ss)"
   ]
  }
 ],
 "metadata": {
  "kernelspec": {
   "display_name": "Python 3",
   "language": "python",
   "name": "python3"
  },
  "language_info": {
   "codemirror_mode": {
    "name": "ipython",
    "version": 3
   },
   "file_extension": ".py",
   "mimetype": "text/x-python",
   "name": "python",
   "nbconvert_exporter": "python",
   "pygments_lexer": "ipython3",
   "version": "3.8.8"
  }
 },
 "nbformat": 4,
 "nbformat_minor": 5
}
