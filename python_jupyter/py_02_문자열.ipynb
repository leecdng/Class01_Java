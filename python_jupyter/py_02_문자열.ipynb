{
 "cells": [
  {
   "cell_type": "markdown",
   "id": "ecfb41a7-9c2f-4b7c-8755-762b2752de0e",
   "metadata": {},
   "source": [
    "###문자열 자료형\n",
    "\n",
    "한 줄 문자열: \",'\n",
    "\n",
    "여러 줄 문자열: \"\"\",'''"
   ]
  },
  {
   "cell_type": "code",
   "execution_count": 3,
   "id": "7d44be9d-5aef-4b54-9211-329fab0f408c",
   "metadata": {},
   "outputs": [],
   "source": [
    "txt = \"한 줄 문자열\"\n",
    "txt2 = '한 줄 문자열'\n",
    "\n",
    "txt3 = \"\"\"여러줄 \n",
    "문자열1111\"\"\"\n",
    "\n",
    "txt4 = '''여러줄\n",
    "문자열22222'''"
   ]
  },
  {
   "cell_type": "code",
   "execution_count": 4,
   "id": "a2ccea31-46f5-4f94-8b14-ec38c5fdecae",
   "metadata": {},
   "outputs": [
    {
     "name": "stdout",
     "output_type": "stream",
     "text": [
      "txt-> 한 줄 문자열\n",
      "txt2-> 한 줄 문자열\n",
      "txt3-> 여러줄 \n",
      "문자열1111\n",
      "txt4-> 여러줄\n",
      "문자열22222\n"
     ]
    }
   ],
   "source": [
    "print('txt->', txt)\n",
    "print('txt2->', txt2)\n",
    "print('txt3->', txt3)\n",
    "print('txt4->', txt4)"
   ]
  },
  {
   "cell_type": "code",
   "execution_count": 5,
   "id": "2391b5d0-6b95-4dd3-8b5b-c2c95acd9ec3",
   "metadata": {},
   "outputs": [],
   "source": [
    "txt = 'Test'"
   ]
  },
  {
   "cell_type": "code",
   "execution_count": 6,
   "id": "9d4f622f-7089-4f6a-9726-7c3e5e5f62e5",
   "metadata": {},
   "outputs": [
    {
     "name": "stdout",
     "output_type": "stream",
     "text": [
      "TestTest\n"
     ]
    }
   ],
   "source": [
    "result = txt + txt\n",
    "print(result)"
   ]
  },
  {
   "cell_type": "code",
   "execution_count": 8,
   "id": "aa871329-8d22-4758-8010-62d9b4d4b6b5",
   "metadata": {},
   "outputs": [
    {
     "data": {
      "text/plain": [
       "'TestTestTestTestTest'"
      ]
     },
     "execution_count": 8,
     "metadata": {},
     "output_type": "execute_result"
    }
   ],
   "source": [
    "result2 = txt*5\n",
    "result2"
   ]
  },
  {
   "cell_type": "code",
   "execution_count": 11,
   "id": "8172a44a-f872-4fd2-bb59-6b94c0c67835",
   "metadata": {},
   "outputs": [
    {
     "name": "stdout",
     "output_type": "stream",
     "text": [
      "==================================================\n",
      "==========\n"
     ]
    }
   ],
   "source": [
    "t1 = '='\n",
    "print(t1*50)\n",
    "print(t1*10)"
   ]
  },
  {
   "cell_type": "code",
   "execution_count": 10,
   "id": "bfe401ee-0c5c-4d6f-b8e2-7ec3581d12b5",
   "metadata": {},
   "outputs": [
    {
     "data": {
      "text/plain": [
       "4"
      ]
     },
     "execution_count": 10,
     "metadata": {},
     "output_type": "execute_result"
    }
   ],
   "source": [
    "len(txt) #문자수"
   ]
  },
  {
   "cell_type": "code",
   "execution_count": 22,
   "id": "c7771291-61f6-4a9d-8e55-47888ce58d2c",
   "metadata": {},
   "outputs": [
    {
     "name": "stdout",
     "output_type": "stream",
     "text": [
      "o\n",
      "on te\n"
     ]
    }
   ],
   "source": [
    "# 문자열 인덱싱\n",
    "t4 = 'python test programming'\n",
    "print(t4[4])\n",
    "print(t4[4:9])"
   ]
  },
  {
   "cell_type": "code",
   "execution_count": 31,
   "id": "67fb3198-3bfd-43ca-b319-be0f7bee5c30",
   "metadata": {},
   "outputs": [
    {
     "name": "stdout",
     "output_type": "stream",
     "text": [
      "thon tes\n",
      " test programming\n",
      "pyt\n",
      "python test programming\n",
      "hon test programm\n"
     ]
    }
   ],
   "source": [
    "# 문자열 슬라이싱\n",
    "print(t4[2:10]) # thon tes 인덱스 2 부터 10앞까지\n",
    "print(t4[6:]) # 6부터 끝까지\n",
    "print(t4[:3]) # 처음(0)부터 3 앞까지\n",
    "print(t4[:]) # 전체\n",
    "print(t4[3:-3]) # 3부터 뒤에서 3개를 제외한 문자"
   ]
  },
  {
   "cell_type": "code",
   "execution_count": null,
   "id": "8672051e-8de4-4dad-8b96-d09fb033cb12",
   "metadata": {},
   "outputs": [],
   "source": []
  },
  {
   "cell_type": "code",
   "execution_count": null,
   "id": "6bb3be2d-e5cc-4a59-bdfd-b3ad9952c0fb",
   "metadata": {},
   "outputs": [],
   "source": []
  },
  {
   "cell_type": "code",
   "execution_count": null,
   "id": "203bd50c-e604-4191-9a45-3509936f5f87",
   "metadata": {},
   "outputs": [],
   "source": []
  },
  {
   "cell_type": "code",
   "execution_count": null,
   "id": "c2052ddb-356c-4f92-b55e-4304c5ca2e0e",
   "metadata": {},
   "outputs": [],
   "source": []
  },
  {
   "cell_type": "code",
   "execution_count": null,
   "id": "53eb11a2-fe2c-46e3-8df4-822768974238",
   "metadata": {},
   "outputs": [],
   "source": []
  },
  {
   "cell_type": "code",
   "execution_count": null,
   "id": "1285ba09-34d7-412b-94ba-445e767d985b",
   "metadata": {},
   "outputs": [],
   "source": []
  },
  {
   "cell_type": "code",
   "execution_count": null,
   "id": "26e9c2f1-a1e7-4cdc-8880-8be22338b1d8",
   "metadata": {},
   "outputs": [],
   "source": []
  },
  {
   "cell_type": "code",
   "execution_count": null,
   "id": "f49040d0-7f1d-4b5b-b50c-80a85f58ff88",
   "metadata": {},
   "outputs": [],
   "source": []
  }
 ],
 "metadata": {
  "kernelspec": {
   "display_name": "Python 3",
   "language": "python",
   "name": "python3"
  },
  "language_info": {
   "codemirror_mode": {
    "name": "ipython",
    "version": 3
   },
   "file_extension": ".py",
   "mimetype": "text/x-python",
   "name": "python",
   "nbconvert_exporter": "python",
   "pygments_lexer": "ipython3",
   "version": "3.8.8"
  }
 },
 "nbformat": 4,
 "nbformat_minor": 5
}
