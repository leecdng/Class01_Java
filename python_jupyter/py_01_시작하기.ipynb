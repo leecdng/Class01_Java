{
 "cells": [
  {
   "cell_type": "code",
   "execution_count": null,
   "id": "5b10fcb9-a59e-446c-972b-b966d57fed9a",
   "metadata": {},
   "outputs": [],
   "source": []
  },
  {
   "cell_type": "markdown",
   "id": "7b05d2c7-34e2-47e8-b976-0470b91b961f",
   "metadata": {},
   "source": [
    "### 설명을 적을 수 있다.\n",
    "# 한 개\n",
    "##### 다섯 개 #\n",
    "여러 줄로 설명 기록 가능<br/>\n",
    "다음 줄에 설명"
   ]
  },
  {
   "cell_type": "code",
   "execution_count": 2,
   "id": "b2017f32-881d-4d86-b5d8-f8c0343c39d6",
   "metadata": {},
   "outputs": [],
   "source": [
    "# 한줄주석"
   ]
  },
  {
   "cell_type": "code",
   "execution_count": 3,
   "id": "75f5012b-09fc-4fb1-aa84-996beee213ab",
   "metadata": {},
   "outputs": [
    {
     "data": {
      "text/plain": [
       "10"
      ]
     },
     "execution_count": 3,
     "metadata": {},
     "output_type": "execute_result"
    }
   ],
   "source": [
    "a=10\n",
    "b=20\n",
    "a\n"
   ]
  },
  {
   "cell_type": "code",
   "execution_count": 4,
   "id": "d8e6bbad-3068-41ba-a267-e3cb85faa7ba",
   "metadata": {},
   "outputs": [
    {
     "data": {
      "text/plain": [
       "20"
      ]
     },
     "execution_count": 4,
     "metadata": {},
     "output_type": "execute_result"
    }
   ],
   "source": [
    "b"
   ]
  },
  {
   "cell_type": "code",
   "execution_count": 5,
   "id": "89cc474e-f23a-4565-a697-0c4d54beb1e3",
   "metadata": {},
   "outputs": [
    {
     "data": {
      "text/plain": [
       "30"
      ]
     },
     "execution_count": 5,
     "metadata": {},
     "output_type": "execute_result"
    }
   ],
   "source": [
    "c=a+b\n",
    "c"
   ]
  }
 ],
 "metadata": {
  "kernelspec": {
   "display_name": "Python 3",
   "language": "python",
   "name": "python3"
  },
  "language_info": {
   "codemirror_mode": {
    "name": "ipython",
    "version": 3
   },
   "file_extension": ".py",
   "mimetype": "text/x-python",
   "name": "python",
   "nbconvert_exporter": "python",
   "pygments_lexer": "ipython3",
   "version": "3.8.8"
  }
 },
 "nbformat": 4,
 "nbformat_minor": 5
}
