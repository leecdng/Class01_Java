{
 "cells": [
  {
   "cell_type": "code",
   "execution_count": 1,
   "id": "8e8cb527-95d5-4ba2-8fc7-e868fa0c678a",
   "metadata": {},
   "outputs": [
    {
     "name": "stdout",
     "output_type": "stream",
     "text": [
      "12\n",
      "13\n",
      "45\n",
      "74\n",
      "28\n",
      "95\n",
      "68\n"
     ]
    }
   ],
   "source": [
    "# for문\n",
    "\n",
    "data = [12,13,45,74,28,95,68]\n",
    "\n",
    "for d in data:\n",
    "    print(d)"
   ]
  },
  {
   "cell_type": "code",
   "execution_count": 3,
   "id": "7a601a95-d049-4cd5-8cce-8718f1c4f1dc",
   "metadata": {},
   "outputs": [
    {
     "name": "stdout",
     "output_type": "stream",
     "text": [
      "6\n",
      "15\n",
      "13\n",
      "15\n"
     ]
    }
   ],
   "source": [
    "data2 = [(1,5), (9,6), (6,7), (6,9)]\n",
    "\n",
    "for (first, second) in data2 :\n",
    "    print(first + second)"
   ]
  },
  {
   "cell_type": "code",
   "execution_count": null,
   "id": "b8fac66f-bc88-4ece-8425-394320f054cb",
   "metadata": {},
   "outputs": [],
   "source": [
    "# range(1, 5) -> 1부터 5앞까지\n",
    "# range(5) -> 0부터 5앞까지\n",
    "# range(1, 10, 2)\n",
    "# for a in range(2, 11, 2):\n",
    "#    print(a)"
   ]
  },
  {
   "cell_type": "code",
   "execution_count": 5,
   "id": "19531c24-4fab-4eea-b297-d2fa934e6c69",
   "metadata": {},
   "outputs": [
    {
     "name": "stdout",
     "output_type": "stream",
     "text": [
      "a --> 100\n",
      "b --> 120\n",
      "c --> 300\n"
     ]
    }
   ],
   "source": [
    "data3 = [('a', 100), ('b',120), ('c', 300)]\n",
    "\n",
    "for d in range(len(data3)): # range(3)인 듯\n",
    "    dd = data3[d]\n",
    "    print(f'{dd[0]} --> {dd[1]}')"
   ]
  },
  {
   "cell_type": "code",
   "execution_count": 6,
   "id": "c1fc3230-2bad-4f5d-bb78-233771846697",
   "metadata": {},
   "outputs": [
    {
     "name": "stdout",
     "output_type": "stream",
     "text": [
      "81점은 합격입니다.\n",
      "67점은 합격입니다.\n",
      "60점은 합격입니다.\n",
      "82점은 합격입니다.\n",
      "91점은 합격입니다.\n"
     ]
    }
   ],
   "source": [
    "data4 = [81,67,51,24,60,82,91]\n",
    "# 60점 이상이 합격\n",
    "for jumsu in data4:\n",
    "    if jumsu < 60:\n",
    "        continue\n",
    "    print(f'{jumsu}점은 합격입니다.')"
   ]
  },
  {
   "cell_type": "code",
   "execution_count": 7,
   "id": "8bc03907-0d6f-4f3c-8f20-67ccd52965e6",
   "metadata": {},
   "outputs": [
    {
     "name": "stdout",
     "output_type": "stream",
     "text": [
      "2*2=4\n",
      "2*3=6\n",
      "2*4=8\n",
      "2*5=10\n",
      "2*6=12\n",
      "2*7=14\n",
      "2*8=16\n",
      "2*9=18\n",
      "3*2=6\n",
      "3*3=9\n",
      "3*4=12\n",
      "3*5=15\n",
      "3*6=18\n",
      "3*7=21\n",
      "3*8=24\n",
      "3*9=27\n",
      "4*2=8\n",
      "4*3=12\n",
      "4*4=16\n",
      "4*5=20\n",
      "4*6=24\n",
      "4*7=28\n",
      "4*8=32\n",
      "4*9=36\n",
      "5*2=10\n",
      "5*3=15\n",
      "5*4=20\n",
      "5*5=25\n",
      "5*6=30\n",
      "5*7=35\n",
      "5*8=40\n",
      "5*9=45\n",
      "6*2=12\n",
      "6*3=18\n",
      "6*4=24\n",
      "6*5=30\n",
      "6*6=36\n",
      "6*7=42\n",
      "6*8=48\n",
      "6*9=54\n",
      "7*2=14\n",
      "7*3=21\n",
      "7*4=28\n",
      "7*5=35\n",
      "7*6=42\n",
      "7*7=49\n",
      "7*8=56\n",
      "7*9=63\n",
      "8*2=16\n",
      "8*3=24\n",
      "8*4=32\n",
      "8*5=40\n",
      "8*6=48\n",
      "8*7=56\n",
      "8*8=64\n",
      "8*9=72\n",
      "9*2=18\n",
      "9*3=27\n",
      "9*4=36\n",
      "9*5=45\n",
      "9*6=54\n",
      "9*7=63\n",
      "9*8=72\n",
      "9*9=81\n"
     ]
    }
   ],
   "source": [
    "# 중첩 for\n",
    "# 구구단\n",
    "# 2~9단까지\n",
    "for dan in range(2, 10):\n",
    "    for i in range(2, 10):\n",
    "        print(f'{dan}*{i}={dan*i}')"
   ]
  },
  {
   "cell_type": "code",
   "execution_count": 15,
   "id": "1611396f-ff5d-414a-9e69-df5b4718ee0e",
   "metadata": {},
   "outputs": [
    {
     "name": "stdout",
     "output_type": "stream",
     "text": [
      "[6, 27, 18, 21, 12, 9, 15]\n"
     ]
    }
   ],
   "source": [
    "data5 = [2,9,6,7,4,3,5]\n",
    "# 새로운 리스트를 생성하여 data5에 있는 값을 3배에 해당하는 데이터 채워라\n",
    "data6 = [] # data6 = list()\n",
    "for i in data5:\n",
    "    data6.append(i*3)\n",
    "\n",
    "print(data6)"
   ]
  },
  {
   "cell_type": "code",
   "execution_count": 18,
   "id": "d767eaf4-1088-49bd-bb1c-6553343c5118",
   "metadata": {},
   "outputs": [
    {
     "name": "stdout",
     "output_type": "stream",
     "text": [
      "[6, 27, 18, 21, 12, 9, 15]\n"
     ]
    }
   ],
   "source": [
    "data7 = list()\n",
    "for n in range(len(data5)):\n",
    "    data7.append(data5[n]*3)\n",
    "print(data7)"
   ]
  },
  {
   "cell_type": "code",
   "execution_count": 19,
   "id": "bd2267dc-9e76-4a61-9b9e-1178c4081fb8",
   "metadata": {},
   "outputs": [
    {
     "data": {
      "text/plain": [
       "[6, 27, 18, 21, 12, 9, 15]"
      ]
     },
     "execution_count": 19,
     "metadata": {},
     "output_type": "execute_result"
    }
   ],
   "source": [
    "# 리스트 내포 사용하기\n",
    "data5 = [2,9,6,7,4,3,5]\n",
    "result = [n*3 for n in data5]\n",
    "result"
   ]
  },
  {
   "cell_type": "code",
   "execution_count": 22,
   "id": "d4197fa4-6219-4653-b752-998cfe60965b",
   "metadata": {},
   "outputs": [
    {
     "name": "stdout",
     "output_type": "stream",
     "text": [
      "[6, 18, 12, 15]\n",
      "[6, 18, 12, 15]\n"
     ]
    }
   ],
   "source": [
    "# data5의 값 중에 짝수 번째 있는 데티어만 3배를 하여 새로운 리스트 생성(result2)\n",
    "result2 = []\n",
    "for n in range(len(data5)):\n",
    "    if n%2==0:\n",
    "        result2.append(data5[n]*3)\n",
    "print(result2)\n",
    "\n",
    "result3 = [ data5[n]*3 for n in range(len(data5)) if n%2==0 ]\n",
    "print(result3)"
   ]
  },
  {
   "cell_type": "code",
   "execution_count": 25,
   "id": "4e42151f-5abc-4556-ac93-d972145422c7",
   "metadata": {},
   "outputs": [
    {
     "name": "stdout",
     "output_type": "stream",
     "text": [
      "2*2=4\n",
      "2*3=6\n",
      "2*4=8\n",
      "2*5=10\n",
      "2*6=12\n",
      "2*7=14\n",
      "2*8=16\n",
      "2*9=18\n",
      "3*2=6\n",
      "3*3=9\n",
      "3*4=12\n",
      "3*5=15\n",
      "3*6=18\n",
      "3*7=21\n",
      "3*8=24\n",
      "3*9=27\n",
      "4*2=8\n",
      "4*3=12\n",
      "4*4=16\n",
      "4*5=20\n",
      "4*6=24\n",
      "4*7=28\n",
      "4*8=32\n",
      "4*9=36\n",
      "5*2=10\n",
      "5*3=15\n",
      "5*4=20\n",
      "5*5=25\n",
      "5*6=30\n",
      "5*7=35\n",
      "5*8=40\n",
      "5*9=45\n",
      "6*2=12\n",
      "6*3=18\n",
      "6*4=24\n",
      "6*5=30\n",
      "6*6=36\n",
      "6*7=42\n",
      "6*8=48\n",
      "6*9=54\n",
      "7*2=14\n",
      "7*3=21\n",
      "7*4=28\n",
      "7*5=35\n",
      "7*6=42\n",
      "7*7=49\n",
      "7*8=56\n",
      "7*9=63\n",
      "8*2=16\n",
      "8*3=24\n",
      "8*4=32\n",
      "8*5=40\n",
      "8*6=48\n",
      "8*7=56\n",
      "8*8=64\n",
      "8*9=72\n",
      "9*2=18\n",
      "9*3=27\n",
      "9*4=36\n",
      "9*5=45\n",
      "9*6=54\n",
      "9*7=63\n",
      "9*8=72\n",
      "9*9=81\n"
     ]
    }
   ],
   "source": [
    "# 중첩 내포된 for문\n",
    "result4 = [ (d, i, d*i) for d in range(2, 10) for i in range(2,10)]\n",
    "# print(result4)\n",
    "\n",
    "for(a, b, c) in result4:\n",
    "    print(f'{a}*{b}={c}')\n"
   ]
  },
  {
   "cell_type": "code",
   "execution_count": 30,
   "id": "8afef977-8ef5-42b0-b012-a9c732301e8d",
   "metadata": {},
   "outputs": [
    {
     "data": {
      "text/plain": [
       "[(1, 1, 1),\n",
       " (1, 1, 2),\n",
       " (1, 1, 3),\n",
       " (1, 1, 4),\n",
       " (1, 1, 5),\n",
       " (1, 2, 1),\n",
       " (1, 2, 2),\n",
       " (1, 2, 3),\n",
       " (1, 2, 4),\n",
       " (1, 2, 5),\n",
       " (1, 3, 1),\n",
       " (1, 3, 2),\n",
       " (1, 3, 3),\n",
       " (1, 3, 4),\n",
       " (1, 3, 5),\n",
       " (1, 4, 1),\n",
       " (1, 4, 2),\n",
       " (1, 4, 3),\n",
       " (1, 4, 4),\n",
       " (1, 4, 5),\n",
       " (1, 5, 1),\n",
       " (1, 5, 2),\n",
       " (1, 5, 3),\n",
       " (1, 5, 4),\n",
       " (1, 5, 5),\n",
       " (2, 1, 1),\n",
       " (2, 1, 2),\n",
       " (2, 1, 3),\n",
       " (2, 1, 4),\n",
       " (2, 1, 5),\n",
       " (2, 2, 1),\n",
       " (2, 2, 2),\n",
       " (2, 2, 3),\n",
       " (2, 2, 4),\n",
       " (2, 2, 5),\n",
       " (2, 3, 1),\n",
       " (2, 3, 2),\n",
       " (2, 3, 3),\n",
       " (2, 3, 4),\n",
       " (2, 3, 5),\n",
       " (2, 4, 1),\n",
       " (2, 4, 2),\n",
       " (2, 4, 3),\n",
       " (2, 4, 4),\n",
       " (2, 4, 5),\n",
       " (2, 5, 1),\n",
       " (2, 5, 2),\n",
       " (2, 5, 3),\n",
       " (2, 5, 4),\n",
       " (2, 5, 5),\n",
       " (3, 1, 1),\n",
       " (3, 1, 2),\n",
       " (3, 1, 3),\n",
       " (3, 1, 4),\n",
       " (3, 1, 5),\n",
       " (3, 2, 1),\n",
       " (3, 2, 2),\n",
       " (3, 2, 3),\n",
       " (3, 2, 4),\n",
       " (3, 2, 5),\n",
       " (3, 3, 1),\n",
       " (3, 3, 2),\n",
       " (3, 3, 3),\n",
       " (3, 3, 4),\n",
       " (3, 3, 5),\n",
       " (3, 4, 1),\n",
       " (3, 4, 2),\n",
       " (3, 4, 3),\n",
       " (3, 4, 4),\n",
       " (3, 4, 5),\n",
       " (3, 5, 1),\n",
       " (3, 5, 2),\n",
       " (3, 5, 3),\n",
       " (3, 5, 4),\n",
       " (3, 5, 5),\n",
       " (4, 1, 1),\n",
       " (4, 1, 2),\n",
       " (4, 1, 3),\n",
       " (4, 1, 4),\n",
       " (4, 1, 5),\n",
       " (4, 2, 1),\n",
       " (4, 2, 2),\n",
       " (4, 2, 3),\n",
       " (4, 2, 4),\n",
       " (4, 2, 5),\n",
       " (4, 3, 1),\n",
       " (4, 3, 2),\n",
       " (4, 3, 3),\n",
       " (4, 3, 4),\n",
       " (4, 3, 5),\n",
       " (4, 4, 1),\n",
       " (4, 4, 2),\n",
       " (4, 4, 3),\n",
       " (4, 4, 4),\n",
       " (4, 4, 5),\n",
       " (4, 5, 1),\n",
       " (4, 5, 2),\n",
       " (4, 5, 3),\n",
       " (4, 5, 4),\n",
       " (4, 5, 5),\n",
       " (5, 1, 1),\n",
       " (5, 1, 2),\n",
       " (5, 1, 3),\n",
       " (5, 1, 4),\n",
       " (5, 1, 5),\n",
       " (5, 2, 1),\n",
       " (5, 2, 2),\n",
       " (5, 2, 3),\n",
       " (5, 2, 4),\n",
       " (5, 2, 5),\n",
       " (5, 3, 1),\n",
       " (5, 3, 2),\n",
       " (5, 3, 3),\n",
       " (5, 3, 4),\n",
       " (5, 3, 5),\n",
       " (5, 4, 1),\n",
       " (5, 4, 2),\n",
       " (5, 4, 3),\n",
       " (5, 4, 4),\n",
       " (5, 4, 5),\n",
       " (5, 5, 1),\n",
       " (5, 5, 2),\n",
       " (5, 5, 3),\n",
       " (5, 5, 4),\n",
       " (5, 5, 5)]"
      ]
     },
     "execution_count": 30,
     "metadata": {},
     "output_type": "execute_result"
    }
   ],
   "source": [
    "result5 = [ (a,b,c) for a in range(1,6) for b in range(1, 6) for c in range(1,6)]\n",
    "result5"
   ]
  },
  {
   "cell_type": "code",
   "execution_count": null,
   "id": "efcea3dd-94cc-4d2d-80cc-cbae7bfe86c4",
   "metadata": {},
   "outputs": [],
   "source": []
  },
  {
   "cell_type": "code",
   "execution_count": null,
   "id": "3d2a14f5-6feb-4a8c-8f8f-01133bb3fe32",
   "metadata": {},
   "outputs": [],
   "source": []
  },
  {
   "cell_type": "code",
   "execution_count": null,
   "id": "bde0d1fd-34c8-41ea-8275-4a4c2ad6447f",
   "metadata": {},
   "outputs": [],
   "source": []
  }
 ],
 "metadata": {
  "kernelspec": {
   "display_name": "Python 3",
   "language": "python",
   "name": "python3"
  },
  "language_info": {
   "codemirror_mode": {
    "name": "ipython",
    "version": 3
   },
   "file_extension": ".py",
   "mimetype": "text/x-python",
   "name": "python",
   "nbconvert_exporter": "python",
   "pygments_lexer": "ipython3",
   "version": "3.8.8"
  }
 },
 "nbformat": 4,
 "nbformat_minor": 5
}
