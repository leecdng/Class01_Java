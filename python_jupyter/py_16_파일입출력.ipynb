{
 "cells": [
  {
   "cell_type": "code",
   "execution_count": 2,
   "id": "a4fa8533-8912-4620-96b7-a0a44d5c4d09",
   "metadata": {},
   "outputs": [],
   "source": [
    "# 파일 생성하기\n",
    "# 경로가 없을 시 기본 위치에 파일이 생성됨.\n",
    "\n",
    "# 파일명, 모드(r(읽기),w(쓰기),a(마지막에 쓰기할 것))\n",
    "f1 = open('TestFile.txt', 'w')\n",
    "f1.close()"
   ]
  },
  {
   "cell_type": "code",
   "execution_count": 3,
   "id": "7baca717-738b-44ff-b2c2-3c01cfc4f824",
   "metadata": {},
   "outputs": [],
   "source": [
    "# 절대 경로에 파일 생성\n",
    "# 폴더는 별도로 만들어야 함\n",
    "f2 = open('D:/testFile/TestFile2.txt','w')\n",
    "f2.close()"
   ]
  },
  {
   "cell_type": "code",
   "execution_count": 9,
   "id": "87e0cf2e-311e-4295-a2a8-856dd363f2ac",
   "metadata": {},
   "outputs": [
    {
     "name": "stdout",
     "output_type": "stream",
     "text": [
      "파일 쓰기 완료\n"
     ]
    }
   ],
   "source": [
    "# 파일에 쓰기\n",
    "f3 = open('D:/testFile/TestFile3.txt', 'w')\n",
    "\n",
    "for i in range(1, 11):\n",
    "    data = '%d번째 줄 추가하기\\n' % i\n",
    "    f3.write(data)\n",
    "    \n",
    "f3.close()\n",
    "print('파일 쓰기 완료')"
   ]
  },
  {
   "cell_type": "code",
   "execution_count": 11,
   "id": "937fafc1-2870-464a-80de-e52f58c1a8ef",
   "metadata": {},
   "outputs": [
    {
     "name": "stdout",
     "output_type": "stream",
     "text": [
      "1번째 줄 추가하기\n",
      "\n",
      "2번째 줄 추가하기\n",
      "\n",
      "3번째 줄 추가하기\n",
      "\n",
      "4번째 줄 추가하기\n",
      "\n",
      "5번째 줄 추가하기\n",
      "\n",
      "6번째 줄 추가하기\n",
      "\n",
      "7번째 줄 추가하기\n",
      "\n",
      "8번째 줄 추가하기\n",
      "\n",
      "9번째 줄 추가하기\n",
      "\n",
      "10번째 줄 추가하기\n",
      "\n"
     ]
    }
   ],
   "source": [
    "# 파일 읽기\n",
    "# readline(), readlines()\n",
    "f4 = open('D:/testFile/TestFile3.txt', 'r')\n",
    "while True:\n",
    "    data = f4.readline()\n",
    "    if not data:   # 값이 있으면 True, 값이 없으면 False\n",
    "        break\n",
    "    print(data)\n",
    "f4.close()"
   ]
  },
  {
   "cell_type": "code",
   "execution_count": 12,
   "id": "739dd545-a0ba-4294-86f4-52d879fadc1b",
   "metadata": {},
   "outputs": [
    {
     "name": "stdout",
     "output_type": "stream",
     "text": [
      "1번째 줄 추가하기\n",
      "\n",
      "2번째 줄 추가하기\n",
      "\n",
      "3번째 줄 추가하기\n",
      "\n",
      "4번째 줄 추가하기\n",
      "\n",
      "5번째 줄 추가하기\n",
      "\n",
      "6번째 줄 추가하기\n",
      "\n",
      "7번째 줄 추가하기\n",
      "\n",
      "8번째 줄 추가하기\n",
      "\n",
      "9번째 줄 추가하기\n",
      "\n",
      "10번째 줄 추가하기\n",
      "\n"
     ]
    }
   ],
   "source": [
    "f5 = open('d:/testFile/TestFile3.txt', 'r')\n",
    "fileData = f5.readlines()\n",
    "f5.close()\n",
    "for i in fileData:\n",
    "    print(i)"
   ]
  },
  {
   "cell_type": "code",
   "execution_count": 2,
   "id": "14f549d1-3a52-4184-9f85-76dee8e28e6d",
   "metadata": {},
   "outputs": [],
   "source": [
    "f6 = open('d:/testFile/TestFile3.txt','a')\n",
    "\n",
    "for i in range(1000, 1006):\n",
    "    f6.write('%d을 새로 추가한 값\\n' % i)\n",
    "f6.close()"
   ]
  },
  {
   "cell_type": "markdown",
   "id": "40da2fcf-83a2-47de-8f7d-592fa437d35f",
   "metadata": {},
   "source": [
    "### with를 이용하여 파일 처리\n",
    "### close()를 하지 않아도 된다."
   ]
  },
  {
   "cell_type": "code",
   "execution_count": 3,
   "id": "4bd5fb61-54b2-4c1a-a6bf-c4478e5dca6f",
   "metadata": {},
   "outputs": [],
   "source": [
    "with open('d:/testFile/TestFile2.txt','w') as f7:\n",
    "    for i in range(1, 11):\n",
    "        f7.write('%d값을 쓰기 연습 중.....\\n' % i)\n",
    "# with 블럭 벗어나면 파일이 자동으로 close()된다."
   ]
  },
  {
   "cell_type": "code",
   "execution_count": 4,
   "id": "055ac8ff-25b1-415a-af3d-1d20449aff2a",
   "metadata": {},
   "outputs": [
    {
     "name": "stdout",
     "output_type": "stream",
     "text": [
      "['1값을 쓰기 연습 중.....\\n', '2값을 쓰기 연습 중.....\\n', '3값을 쓰기 연습 중.....\\n', '4값을 쓰기 연습 중.....\\n', '5값을 쓰기 연습 중.....\\n', '6값을 쓰기 연습 중.....\\n', '7값을 쓰기 연습 중.....\\n', '8값을 쓰기 연습 중.....\\n', '9값을 쓰기 연습 중.....\\n', '10값을 쓰기 연습 중.....\\n']\n"
     ]
    }
   ],
   "source": [
    "with open('d:/testFile/TestFile2.txt','r') as f8:\n",
    "    data = f8.readlines()\n",
    "    print(data)"
   ]
  },
  {
   "cell_type": "code",
   "execution_count": null,
   "id": "518c9a5e-c550-433d-98f8-ff25c5f84091",
   "metadata": {},
   "outputs": [],
   "source": []
  },
  {
   "cell_type": "code",
   "execution_count": null,
   "id": "a88c7318-59bc-4357-92be-b900258ac9b5",
   "metadata": {},
   "outputs": [],
   "source": []
  },
  {
   "cell_type": "code",
   "execution_count": null,
   "id": "d1ef7a5c-ac0c-4213-9d64-99ca688baa07",
   "metadata": {},
   "outputs": [],
   "source": []
  }
 ],
 "metadata": {
  "kernelspec": {
   "display_name": "Python 3",
   "language": "python",
   "name": "python3"
  },
  "language_info": {
   "codemirror_mode": {
    "name": "ipython",
    "version": 3
   },
   "file_extension": ".py",
   "mimetype": "text/x-python",
   "name": "python",
   "nbconvert_exporter": "python",
   "pygments_lexer": "ipython3",
   "version": "3.8.8"
  }
 },
 "nbformat": 4,
 "nbformat_minor": 5
}
