{
 "cells": [
  {
   "cell_type": "markdown",
   "id": "cf23872d-add5-4563-8c3d-553b593c4397",
   "metadata": {},
   "source": [
    "### 딕셔너리\n",
    "\n",
    "key와 value가 있는 자료형이다.<br/>\n",
    "key와 value를 JSON 형식으로 표기\n",
    "\n",
    "### {key: value, key:value,....}"
   ]
  },
  {
   "cell_type": "code",
   "execution_count": 1,
   "id": "5c5f3585-cdd3-4a4c-b05c-be74da88e9f1",
   "metadata": {},
   "outputs": [
    {
     "name": "stdout",
     "output_type": "stream",
     "text": [
      "{100: '홍길동', 200: '서울시 마포구'}\n",
      "{'홍길동': ' 서울시 마포구'}\n"
     ]
    }
   ],
   "source": [
    "# 딕셔너리 변수 선언\n",
    "data1 = {100:'홍길동', 200:'서울시 마포구'}\n",
    "data2 = {'홍길동' : ' 서울시 마포구'}\n",
    "print(data1)\n",
    "print(data2)"
   ]
  },
  {
   "cell_type": "code",
   "execution_count": 2,
   "id": "e4a75643-d15d-464c-bbac-5f27f3a11398",
   "metadata": {},
   "outputs": [
    {
     "name": "stdout",
     "output_type": "stream",
     "text": [
      "{100: '홍길동', 200: '서울시 마포구', 'jumsu': [90, 80, 70]}\n"
     ]
    }
   ],
   "source": [
    "# 딕셔너리에 리스트 추가하기\n",
    "data1['jumsu'] = [90,80,70]\n",
    "print(data1)"
   ]
  },
  {
   "cell_type": "code",
   "execution_count": 3,
   "id": "9cd1532d-a377-4d46-b21a-7cec80fea029",
   "metadata": {},
   "outputs": [
    {
     "name": "stdout",
     "output_type": "stream",
     "text": [
      "{}\n"
     ]
    }
   ],
   "source": [
    "# 딕셔너리에 정보 지우기\n",
    "del data2['홍길동']\n",
    "print(data2)"
   ]
  },
  {
   "cell_type": "code",
   "execution_count": 4,
   "id": "70e68cc3-d4fe-47c0-ba07-0a29106f3516",
   "metadata": {},
   "outputs": [
    {
     "data": {
      "text/plain": [
       "'서울시 마포구'"
      ]
     },
     "execution_count": 4,
     "metadata": {},
     "output_type": "execute_result"
    }
   ],
   "source": [
    "data1[200]"
   ]
  },
  {
   "cell_type": "code",
   "execution_count": 5,
   "id": "00d9b44a-6db8-4604-8baf-54e0a7f5ece2",
   "metadata": {},
   "outputs": [
    {
     "data": {
      "text/plain": [
       "{100: '홍길동', 200: '서울시 영등포구', 'jumsu': [90, 80, 70]}"
      ]
     },
     "execution_count": 5,
     "metadata": {},
     "output_type": "execute_result"
    }
   ],
   "source": [
    "data1[200] = '서울시 영등포구' # 없는 건 추가 이미 있는 것은 value가 바뀜\n",
    "data1"
   ]
  },
  {
   "cell_type": "code",
   "execution_count": null,
   "id": "f8148e8f-80aa-402e-9212-83cacd5d25ee",
   "metadata": {},
   "outputs": [],
   "source": [
    "# key 목록 구하기\n"
   ]
  }
 ],
 "metadata": {
  "kernelspec": {
   "display_name": "Python 3",
   "language": "python",
   "name": "python3"
  },
  "language_info": {
   "codemirror_mode": {
    "name": "ipython",
    "version": 3
   },
   "file_extension": ".py",
   "mimetype": "text/x-python",
   "name": "python",
   "nbconvert_exporter": "python",
   "pygments_lexer": "ipython3",
   "version": "3.8.8"
  }
 },
 "nbformat": 4,
 "nbformat_minor": 5
}
